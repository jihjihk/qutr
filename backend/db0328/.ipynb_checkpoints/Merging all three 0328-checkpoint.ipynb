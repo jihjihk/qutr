{
 "cells": [
  {
   "cell_type": "code",
   "execution_count": 69,
   "metadata": {
    "collapsed": true
   },
   "outputs": [],
   "source": [
    "import pandas as pd\n",
    "import numpy as np"
   ]
  },
  {
   "cell_type": "code",
   "execution_count": 19,
   "metadata": {
    "collapsed": true
   },
   "outputs": [],
   "source": [
    "tri = pd.read_csv(\"trimaster.csv\")\n",
    "ar = pd.read_csv(\"armaster.csv\")\n",
    "cn = pd.read_csv(\"cnmaster.csv\")"
   ]
  },
  {
   "cell_type": "code",
   "execution_count": 20,
   "metadata": {},
   "outputs": [
    {
     "data": {
      "text/plain": [
       "(557, 5)"
      ]
     },
     "execution_count": 20,
     "metadata": {},
     "output_type": "execute_result"
    }
   ],
   "source": [
    "tri.shape"
   ]
  },
  {
   "cell_type": "code",
   "execution_count": 21,
   "metadata": {},
   "outputs": [
    {
     "data": {
      "text/plain": [
       "(531, 3)"
      ]
     },
     "execution_count": 21,
     "metadata": {},
     "output_type": "execute_result"
    }
   ],
   "source": [
    "ar.shape"
   ]
  },
  {
   "cell_type": "code",
   "execution_count": 22,
   "metadata": {},
   "outputs": [
    {
     "data": {
      "text/plain": [
       "(542, 3)"
      ]
     },
     "execution_count": 22,
     "metadata": {},
     "output_type": "execute_result"
    }
   ],
   "source": [
    "cn.shape"
   ]
  },
  {
   "cell_type": "code",
   "execution_count": 23,
   "metadata": {},
   "outputs": [
    {
     "data": {
      "text/html": [
       "<div>\n",
       "<style>\n",
       "    .dataframe thead tr:only-child th {\n",
       "        text-align: right;\n",
       "    }\n",
       "\n",
       "    .dataframe thead th {\n",
       "        text-align: left;\n",
       "    }\n",
       "\n",
       "    .dataframe tbody tr th {\n",
       "        vertical-align: top;\n",
       "    }\n",
       "</style>\n",
       "<table border=\"1\" class=\"dataframe\">\n",
       "  <thead>\n",
       "    <tr style=\"text-align: right;\">\n",
       "      <th></th>\n",
       "      <th>en</th>\n",
       "      <th>ar</th>\n",
       "      <th>pos</th>\n",
       "    </tr>\n",
       "  </thead>\n",
       "  <tbody>\n",
       "    <tr>\n",
       "      <th>0</th>\n",
       "      <td>0</td>\n",
       "      <td>صفر</td>\n",
       "      <td>num</td>\n",
       "    </tr>\n",
       "    <tr>\n",
       "      <th>1</th>\n",
       "      <td>1</td>\n",
       "      <td>واحد</td>\n",
       "      <td>num</td>\n",
       "    </tr>\n",
       "    <tr>\n",
       "      <th>2</th>\n",
       "      <td>2</td>\n",
       "      <td>إثنان</td>\n",
       "      <td>num</td>\n",
       "    </tr>\n",
       "    <tr>\n",
       "      <th>3</th>\n",
       "      <td>3</td>\n",
       "      <td>ثلاثة</td>\n",
       "      <td>num</td>\n",
       "    </tr>\n",
       "    <tr>\n",
       "      <th>4</th>\n",
       "      <td>4</td>\n",
       "      <td>أربعة</td>\n",
       "      <td>num</td>\n",
       "    </tr>\n",
       "  </tbody>\n",
       "</table>\n",
       "</div>"
      ],
      "text/plain": [
       "  en     ar  pos\n",
       "0  0    صفر  num\n",
       "1  1   واحد  num\n",
       "2  2  إثنان  num\n",
       "3  3  ثلاثة  num\n",
       "4  4  أربعة  num"
      ]
     },
     "execution_count": 23,
     "metadata": {},
     "output_type": "execute_result"
    }
   ],
   "source": [
    "ar.head()"
   ]
  },
  {
   "cell_type": "code",
   "execution_count": 24,
   "metadata": {},
   "outputs": [],
   "source": [
    "cn.drop(0, inplace=True)"
   ]
  },
  {
   "cell_type": "code",
   "execution_count": 25,
   "metadata": {},
   "outputs": [
    {
     "data": {
      "text/plain": [
       "(541, 3)"
      ]
     },
     "execution_count": 25,
     "metadata": {},
     "output_type": "execute_result"
    }
   ],
   "source": [
    "cn.shape"
   ]
  },
  {
   "cell_type": "code",
   "execution_count": 33,
   "metadata": {
    "collapsed": true
   },
   "outputs": [],
   "source": [
    "arcn = pd.merge(ar, cn, on=\"en\", how=\"outer\")"
   ]
  },
  {
   "cell_type": "code",
   "execution_count": 34,
   "metadata": {
    "collapsed": true
   },
   "outputs": [],
   "source": [
    "arcn.drop(539, inplace=True)"
   ]
  },
  {
   "cell_type": "code",
   "execution_count": 39,
   "metadata": {},
   "outputs": [
    {
     "name": "stdout",
     "output_type": "stream",
     "text": [
      "320\n",
      "May I please ask, what is your name?\n",
      "هل لي بالسؤال، ما هو اسمك؟\n",
      "vp\n",
      "请问你叫什么名?\n",
      "sent\n",
      "col to change:\n",
      "pos_x\n",
      "change to val:\n",
      "sent\n",
      "col to change:\n",
      "x\n",
      "\n",
      "321\n",
      "May I see the room first?\n",
      "هل لي برؤية الغرفة أولاً؟\n",
      "vp\n",
      "请问我可以先看一下房间吗？\n",
      "sent\n",
      "col to change:\n",
      "pos_x\n",
      "change to val:\n",
      "sent\n",
      "col to change:\n",
      "x\n",
      "\n",
      "363\n",
      "pain killer\n",
      "مسكن ألم\n",
      "sent\n",
      "止痛药\n",
      "np\n",
      "col to change:\n",
      "pos_x\n",
      "change to val:\n",
      "np\n",
      "col to change:\n",
      "x\n",
      "\n",
      "376\n",
      "Please give me *.\n",
      "من فضلك أعطني *.\n",
      " sent\n",
      "请给我*。\n",
      "vp\n",
      "col to change:\n",
      "pos_x\n",
      "change to val:\n",
      "vp\n",
      "col to change:\n",
      "x\n",
      "\n",
      "377\n",
      "Please turn up the AC.\n",
      "من فضلك شغل المكيف الهوائي.\n",
      " sent\n",
      "请把空调开大一点。\n",
      "vp\n",
      "col to change:\n",
      "pos_y\n",
      "change to val:\n",
      "sent\n",
      "col to change:\n",
      "x\n",
      "\n",
      "379\n",
      "Please.\n",
      "من فضلك\n",
      " part\n",
      "请。\n",
      "np\n",
      "col to change:\n",
      "pos_x\n",
      "change to val:\n",
      "sent\n",
      "col to change:\n",
      "pos_x\n",
      "change to val:\n",
      "adv\n",
      "col to change:\n",
      "x\n",
      "\n",
      "380\n",
      "Police!\n",
      "الشرطة!\n",
      " np\n",
      "警察！\n",
      "np\n",
      "col to change:\n",
      "en\n",
      "change to val:\n",
      "police\n",
      "col to change:\n",
      "cn\n",
      "change to val:\n",
      "警察\n",
      "col to change:\n",
      "en\n",
      "change to val:\n",
      "police\n",
      "col to change:\n",
      "ar\n",
      "change to val:\n",
      "الشرطة\n",
      "col to change:\n",
      "x\n",
      "\n",
      "388\n",
      "push\n",
      "ادفع\n",
      " vp\n",
      "推\n",
      "vp\n",
      "col to change:\n",
      "pos_x\n",
      "change to val:\n",
      "vp\n",
      "col to change:\n",
      "x\n",
      "\n",
      "396\n",
      "right\n",
      "يمين\n",
      "part\n",
      "右边\n",
      "adv\n",
      "col to change:\n",
      "pos_x\n",
      "change to val:\n",
      "adv\n",
      "col to change:\n",
      "x\n",
      "\n",
      "404\n",
      "scented tea\n",
      "شاي معطر\n",
      " np\n",
      "花茶\n",
      "np\n",
      "col to change:\n",
      "pos_x\n",
      "change to val:\n",
      "np\n",
      "col to change:\n",
      "x\n",
      "\n",
      "452\n",
      "Three-thirty PM.\n",
      "الثالثة والنص مساءً\n",
      "vp\n",
      "下午3点半.\n",
      "vsent\n",
      "col to change:\n",
      "pos_y\n",
      "change to val:\n",
      "np\n",
      "col to change:\n",
      "pos_x\n",
      "change to val:\n",
      "np\n",
      "col to change:\n",
      "x\n",
      "\n",
      "540\n",
      "Slowly.\n",
      "nan\n",
      "nan\n",
      "慢点\n",
      "sent\n",
      "col to change:\n",
      "ar\n",
      "change to val:\n",
      "ببطء\n",
      "col to change:\n",
      "pos_x\n",
      "change to val:\n",
      "adv\n",
      "col to change:\n",
      "x\n",
      "\n"
     ]
    }
   ],
   "source": [
    "for i, row in arcn.iterrows():\n",
    "    col = list(arcn)\n",
    "    if row.pos_x != row.pos_y:\n",
    "        print(i)\n",
    "        for c in col:\n",
    "            print(arcn.loc[i, c])\n",
    "        \n",
    "        init = \"pos_x\"\n",
    "        while True:\n",
    "            print(\"col to change:\")\n",
    "            init = input()\n",
    "            \n",
    "            if init == \"x\":\n",
    "                break\n",
    "                \n",
    "            if init == \"drop\":\n",
    "                arcn.drop(i, inplace=True)\n",
    "                break\n",
    "            print(\"change to val:\")\n",
    "            row[init] == input()\n",
    "        \n",
    "        print()"
   ]
  },
  {
   "cell_type": "code",
   "execution_count": 41,
   "metadata": {},
   "outputs": [],
   "source": [
    "arcn.loc[320, 'pos_x'] = \"sent\"\n",
    "arcn.loc[321, 'pos_x'] = \"sent\"\n",
    "arcn.loc[363, 'pos_x'] = \"np\"\n",
    "arcn.loc[376, 'pos_x'] = \"vp\"\n",
    "arcn.loc[377, 'pos_y'] = \"sent\"\n",
    "arcn.loc[379, 'pos_x'] = \"sent\"\n",
    "arcn.loc[379, 'pos_x'] = \"adv\"\n",
    "arcn.loc[380, 'en'] = \"police\"\n",
    "arcn.loc[380, 'cn'] = \"警察\"\n",
    "arcn.loc[380, 'ar'] = \"الشرطة\"\n",
    "arcn.loc[388, 'pos_x'] = \"vp\"\n",
    "arcn.loc[388, 'pos_x'] = \"adv\"\n",
    "arcn.loc[404, 'pos_x'] = \"np\"\n",
    "arcn.drop(452, inplace=True)\n",
    "arcn.drop(540, inplace=True)\n",
    "\n",
    "\n",
    "\n",
    "\n",
    "\n",
    "\n"
   ]
  },
  {
   "cell_type": "code",
   "execution_count": 42,
   "metadata": {
    "collapsed": true
   },
   "outputs": [],
   "source": [
    "arcn.to_csv(\"merged0328.csv\")"
   ]
  },
  {
   "cell_type": "code",
   "execution_count": 49,
   "metadata": {},
   "outputs": [],
   "source": [
    "arcn.drop('pos_y', axis=1, inplace=True)"
   ]
  },
  {
   "cell_type": "code",
   "execution_count": 50,
   "metadata": {
    "collapsed": true
   },
   "outputs": [],
   "source": [
    "arcn = arcn.rename(columns={'pos_x': 'pos'})"
   ]
  },
  {
   "cell_type": "code",
   "execution_count": 106,
   "metadata": {
    "collapsed": true
   },
   "outputs": [],
   "source": [
    "tricopy = tri.copy()\n",
    "#tricopy = tricopy.drop(['pos'], axis=1)"
   ]
  },
  {
   "cell_type": "code",
   "execution_count": 107,
   "metadata": {},
   "outputs": [],
   "source": [
    "merge2 = pd.merge(arcn, tricopy, on=\"en\", how=\"outer\")"
   ]
  },
  {
   "cell_type": "code",
   "execution_count": 108,
   "metadata": {},
   "outputs": [
    {
     "data": {
      "text/plain": [
       "(572, 8)"
      ]
     },
     "execution_count": 108,
     "metadata": {},
     "output_type": "execute_result"
    }
   ],
   "source": [
    "merge2.shape"
   ]
  },
  {
   "cell_type": "code",
   "execution_count": 109,
   "metadata": {},
   "outputs": [
    {
     "data": {
      "text/html": [
       "<div>\n",
       "<style>\n",
       "    .dataframe thead tr:only-child th {\n",
       "        text-align: right;\n",
       "    }\n",
       "\n",
       "    .dataframe thead th {\n",
       "        text-align: left;\n",
       "    }\n",
       "\n",
       "    .dataframe tbody tr th {\n",
       "        vertical-align: top;\n",
       "    }\n",
       "</style>\n",
       "<table border=\"1\" class=\"dataframe\">\n",
       "  <thead>\n",
       "    <tr style=\"text-align: right;\">\n",
       "      <th></th>\n",
       "      <th>en</th>\n",
       "      <th>ar_x</th>\n",
       "      <th>pos_x</th>\n",
       "      <th>cn_x</th>\n",
       "      <th>ar_y</th>\n",
       "      <th>cn_y</th>\n",
       "      <th>pos_y</th>\n",
       "    </tr>\n",
       "  </thead>\n",
       "  <tbody>\n",
       "    <tr>\n",
       "      <th>0</th>\n",
       "      <td>0</td>\n",
       "      <td>صفر</td>\n",
       "      <td>num</td>\n",
       "      <td>零</td>\n",
       "      <td>صفر</td>\n",
       "      <td>〇</td>\n",
       "      <td>num</td>\n",
       "    </tr>\n",
       "    <tr>\n",
       "      <th>1</th>\n",
       "      <td>1</td>\n",
       "      <td>واحد</td>\n",
       "      <td>num</td>\n",
       "      <td>一</td>\n",
       "      <td>واحد</td>\n",
       "      <td>一</td>\n",
       "      <td>num</td>\n",
       "    </tr>\n",
       "    <tr>\n",
       "      <th>2</th>\n",
       "      <td>2</td>\n",
       "      <td>إثنان</td>\n",
       "      <td>num</td>\n",
       "      <td>二</td>\n",
       "      <td>إثنان</td>\n",
       "      <td>二</td>\n",
       "      <td>num</td>\n",
       "    </tr>\n",
       "    <tr>\n",
       "      <th>3</th>\n",
       "      <td>3</td>\n",
       "      <td>ثلاثة</td>\n",
       "      <td>num</td>\n",
       "      <td>三</td>\n",
       "      <td>ثلاثة</td>\n",
       "      <td>三</td>\n",
       "      <td>num</td>\n",
       "    </tr>\n",
       "    <tr>\n",
       "      <th>4</th>\n",
       "      <td>4</td>\n",
       "      <td>أربعة</td>\n",
       "      <td>num</td>\n",
       "      <td>四</td>\n",
       "      <td>اربعة</td>\n",
       "      <td>四</td>\n",
       "      <td>num</td>\n",
       "    </tr>\n",
       "  </tbody>\n",
       "</table>\n",
       "</div>"
      ],
      "text/plain": [
       "  en   ar_x pos_x cn_x   ar_y cn_y pos_y\n",
       "0  0    صفر   num    零    صفر    〇   num\n",
       "1  1   واحد   num    一   واحد    一   num\n",
       "2  2  إثنان   num    二  إثنان    二   num\n",
       "3  3  ثلاثة   num    三  ثلاثة    三   num\n",
       "4  4  أربعة   num    四  اربعة    四   num"
      ]
     },
     "execution_count": 109,
     "metadata": {},
     "output_type": "execute_result"
    }
   ],
   "source": [
    "merge2.drop('Unnamed: 0', axis=1, inplace=True)\n",
    "merge2.head()"
   ]
  },
  {
   "cell_type": "code",
   "execution_count": 110,
   "metadata": {
    "collapsed": true
   },
   "outputs": [],
   "source": [
    "merge2 = merge2.fillna('')"
   ]
  },
  {
   "cell_type": "code",
   "execution_count": 111,
   "metadata": {},
   "outputs": [
    {
     "data": {
      "text/html": [
       "<div>\n",
       "<style>\n",
       "    .dataframe thead tr:only-child th {\n",
       "        text-align: right;\n",
       "    }\n",
       "\n",
       "    .dataframe thead th {\n",
       "        text-align: left;\n",
       "    }\n",
       "\n",
       "    .dataframe tbody tr th {\n",
       "        vertical-align: top;\n",
       "    }\n",
       "</style>\n",
       "<table border=\"1\" class=\"dataframe\">\n",
       "  <thead>\n",
       "    <tr style=\"text-align: right;\">\n",
       "      <th></th>\n",
       "      <th>en</th>\n",
       "      <th>ar_x</th>\n",
       "      <th>pos_x</th>\n",
       "      <th>cn_x</th>\n",
       "      <th>ar_y</th>\n",
       "      <th>cn_y</th>\n",
       "      <th>pos_y</th>\n",
       "    </tr>\n",
       "  </thead>\n",
       "  <tbody>\n",
       "    <tr>\n",
       "      <th>562</th>\n",
       "      <td>For * people.</td>\n",
       "      <td></td>\n",
       "      <td></td>\n",
       "      <td></td>\n",
       "      <td>ل* أشخاص.</td>\n",
       "      <td>为*个人。</td>\n",
       "      <td>vp</td>\n",
       "    </tr>\n",
       "    <tr>\n",
       "      <th>563</th>\n",
       "      <td>Yeah.</td>\n",
       "      <td></td>\n",
       "      <td></td>\n",
       "      <td></td>\n",
       "      <td>نعم.</td>\n",
       "      <td>是的。</td>\n",
       "      <td>vp</td>\n",
       "    </tr>\n",
       "    <tr>\n",
       "      <th>564</th>\n",
       "      <td>Sure.</td>\n",
       "      <td></td>\n",
       "      <td></td>\n",
       "      <td></td>\n",
       "      <td>صحيح!</td>\n",
       "      <td>当然啦!</td>\n",
       "      <td>sent</td>\n",
       "    </tr>\n",
       "    <tr>\n",
       "      <th>565</th>\n",
       "      <td>friend</td>\n",
       "      <td></td>\n",
       "      <td></td>\n",
       "      <td></td>\n",
       "      <td>صديق</td>\n",
       "      <td>朋友</td>\n",
       "      <td>np</td>\n",
       "    </tr>\n",
       "    <tr>\n",
       "      <th>566</th>\n",
       "      <td>Hi!</td>\n",
       "      <td></td>\n",
       "      <td></td>\n",
       "      <td></td>\n",
       "      <td>مرحبا!</td>\n",
       "      <td>你好！</td>\n",
       "      <td>sent</td>\n",
       "    </tr>\n",
       "    <tr>\n",
       "      <th>567</th>\n",
       "      <td>What would you like?</td>\n",
       "      <td></td>\n",
       "      <td></td>\n",
       "      <td></td>\n",
       "      <td>ماذا تحب؟</td>\n",
       "      <td>你喜欢什么？</td>\n",
       "      <td>sent</td>\n",
       "    </tr>\n",
       "    <tr>\n",
       "      <th>568</th>\n",
       "      <td>I would like *.</td>\n",
       "      <td></td>\n",
       "      <td></td>\n",
       "      <td></td>\n",
       "      <td>أود *.</td>\n",
       "      <td>我想要 *。</td>\n",
       "      <td>vp</td>\n",
       "    </tr>\n",
       "    <tr>\n",
       "      <th>569</th>\n",
       "      <td>mango</td>\n",
       "      <td></td>\n",
       "      <td></td>\n",
       "      <td></td>\n",
       "      <td>مانجو</td>\n",
       "      <td>芒果</td>\n",
       "      <td>np</td>\n",
       "    </tr>\n",
       "    <tr>\n",
       "      <th>570</th>\n",
       "      <td>apple</td>\n",
       "      <td></td>\n",
       "      <td></td>\n",
       "      <td></td>\n",
       "      <td>تفاحة</td>\n",
       "      <td>苹果</td>\n",
       "      <td>np</td>\n",
       "    </tr>\n",
       "    <tr>\n",
       "      <th>571</th>\n",
       "      <td>* people</td>\n",
       "      <td></td>\n",
       "      <td></td>\n",
       "      <td></td>\n",
       "      <td>* أشخاص</td>\n",
       "      <td>*个人</td>\n",
       "      <td>prt</td>\n",
       "    </tr>\n",
       "  </tbody>\n",
       "</table>\n",
       "</div>"
      ],
      "text/plain": [
       "                       en ar_x pos_x cn_x       ar_y    cn_y pos_y\n",
       "562         For * people.                  ل* أشخاص.   为*个人。    vp\n",
       "563                 Yeah.                       نعم.     是的。    vp\n",
       "564                 Sure.                      صحيح!    当然啦!  sent\n",
       "565                friend                       صديق      朋友    np\n",
       "566                   Hi!                     مرحبا!     你好！  sent\n",
       "567  What would you like?                  ماذا تحب؟  你喜欢什么？  sent\n",
       "568       I would like *.                     أود *.  我想要 *。    vp\n",
       "569                 mango                      مانجو      芒果    np\n",
       "570                 apple                      تفاحة      苹果    np\n",
       "571              * people                    * أشخاص     *个人   prt"
      ]
     },
     "execution_count": 111,
     "metadata": {},
     "output_type": "execute_result"
    }
   ],
   "source": [
    "merge2.tail(10)"
   ]
  },
  {
   "cell_type": "code",
   "execution_count": 113,
   "metadata": {},
   "outputs": [
    {
     "ename": "ValueError",
     "evalue": "labels [543 544 545 552 553 554] not contained in axis",
     "output_type": "error",
     "traceback": [
      "\u001b[0;31m---------------------------------------------------------------------------\u001b[0m",
      "\u001b[0;31mValueError\u001b[0m                                Traceback (most recent call last)",
      "\u001b[0;32m<ipython-input-113-7832c597ae2d>\u001b[0m in \u001b[0;36m<module>\u001b[0;34m()\u001b[0m\n\u001b[1;32m      1\u001b[0m \u001b[0mtodrop\u001b[0m \u001b[0;34m=\u001b[0m \u001b[0;34m[\u001b[0m\u001b[0;36m543\u001b[0m\u001b[0;34m,\u001b[0m \u001b[0;36m544\u001b[0m\u001b[0;34m,\u001b[0m \u001b[0;36m545\u001b[0m\u001b[0;34m,\u001b[0m\u001b[0;36m552\u001b[0m\u001b[0;34m,\u001b[0m\u001b[0;36m553\u001b[0m\u001b[0;34m,\u001b[0m\u001b[0;36m554\u001b[0m\u001b[0;34m]\u001b[0m\u001b[0;34m\u001b[0m\u001b[0m\n\u001b[1;32m      2\u001b[0m \u001b[0;32mfor\u001b[0m \u001b[0mi\u001b[0m \u001b[0;32min\u001b[0m \u001b[0mtodrop\u001b[0m\u001b[0;34m:\u001b[0m\u001b[0;34m\u001b[0m\u001b[0m\n\u001b[0;32m----> 3\u001b[0;31m     \u001b[0mmerge2\u001b[0m\u001b[0;34m.\u001b[0m\u001b[0mdrop\u001b[0m\u001b[0;34m(\u001b[0m\u001b[0mtodrop\u001b[0m\u001b[0;34m,\u001b[0m \u001b[0minplace\u001b[0m\u001b[0;34m=\u001b[0m\u001b[0;32mTrue\u001b[0m\u001b[0;34m)\u001b[0m\u001b[0;34m\u001b[0m\u001b[0m\n\u001b[0m",
      "\u001b[0;32m//anaconda/envs/py3/lib/python3.5/site-packages/pandas/core/generic.py\u001b[0m in \u001b[0;36mdrop\u001b[0;34m(self, labels, axis, level, inplace, errors)\u001b[0m\n\u001b[1;32m   2159\u001b[0m                 \u001b[0mnew_axis\u001b[0m \u001b[0;34m=\u001b[0m \u001b[0maxis\u001b[0m\u001b[0;34m.\u001b[0m\u001b[0mdrop\u001b[0m\u001b[0;34m(\u001b[0m\u001b[0mlabels\u001b[0m\u001b[0;34m,\u001b[0m \u001b[0mlevel\u001b[0m\u001b[0;34m=\u001b[0m\u001b[0mlevel\u001b[0m\u001b[0;34m,\u001b[0m \u001b[0merrors\u001b[0m\u001b[0;34m=\u001b[0m\u001b[0merrors\u001b[0m\u001b[0;34m)\u001b[0m\u001b[0;34m\u001b[0m\u001b[0m\n\u001b[1;32m   2160\u001b[0m             \u001b[0;32melse\u001b[0m\u001b[0;34m:\u001b[0m\u001b[0;34m\u001b[0m\u001b[0m\n\u001b[0;32m-> 2161\u001b[0;31m                 \u001b[0mnew_axis\u001b[0m \u001b[0;34m=\u001b[0m \u001b[0maxis\u001b[0m\u001b[0;34m.\u001b[0m\u001b[0mdrop\u001b[0m\u001b[0;34m(\u001b[0m\u001b[0mlabels\u001b[0m\u001b[0;34m,\u001b[0m \u001b[0merrors\u001b[0m\u001b[0;34m=\u001b[0m\u001b[0merrors\u001b[0m\u001b[0;34m)\u001b[0m\u001b[0;34m\u001b[0m\u001b[0m\n\u001b[0m\u001b[1;32m   2162\u001b[0m             \u001b[0mdropped\u001b[0m \u001b[0;34m=\u001b[0m \u001b[0mself\u001b[0m\u001b[0;34m.\u001b[0m\u001b[0mreindex\u001b[0m\u001b[0;34m(\u001b[0m\u001b[0;34m**\u001b[0m\u001b[0;34m{\u001b[0m\u001b[0maxis_name\u001b[0m\u001b[0;34m:\u001b[0m \u001b[0mnew_axis\u001b[0m\u001b[0;34m}\u001b[0m\u001b[0;34m)\u001b[0m\u001b[0;34m\u001b[0m\u001b[0m\n\u001b[1;32m   2163\u001b[0m             \u001b[0;32mtry\u001b[0m\u001b[0;34m:\u001b[0m\u001b[0;34m\u001b[0m\u001b[0m\n",
      "\u001b[0;32m//anaconda/envs/py3/lib/python3.5/site-packages/pandas/core/indexes/base.py\u001b[0m in \u001b[0;36mdrop\u001b[0;34m(self, labels, errors)\u001b[0m\n\u001b[1;32m   3622\u001b[0m             \u001b[0;32mif\u001b[0m \u001b[0merrors\u001b[0m \u001b[0;34m!=\u001b[0m \u001b[0;34m'ignore'\u001b[0m\u001b[0;34m:\u001b[0m\u001b[0;34m\u001b[0m\u001b[0m\n\u001b[1;32m   3623\u001b[0m                 raise ValueError('labels %s not contained in axis' %\n\u001b[0;32m-> 3624\u001b[0;31m                                  labels[mask])\n\u001b[0m\u001b[1;32m   3625\u001b[0m             \u001b[0mindexer\u001b[0m \u001b[0;34m=\u001b[0m \u001b[0mindexer\u001b[0m\u001b[0;34m[\u001b[0m\u001b[0;34m~\u001b[0m\u001b[0mmask\u001b[0m\u001b[0;34m]\u001b[0m\u001b[0;34m\u001b[0m\u001b[0m\n\u001b[1;32m   3626\u001b[0m         \u001b[0;32mreturn\u001b[0m \u001b[0mself\u001b[0m\u001b[0;34m.\u001b[0m\u001b[0mdelete\u001b[0m\u001b[0;34m(\u001b[0m\u001b[0mindexer\u001b[0m\u001b[0;34m)\u001b[0m\u001b[0;34m\u001b[0m\u001b[0m\n",
      "\u001b[0;31mValueError\u001b[0m: labels [543 544 545 552 553 554] not contained in axis"
     ]
    }
   ],
   "source": [
    "todrop = [543, 544, 545,552,553,554]\n",
    "for i in todrop:\n",
    "    merge2.drop(todrop, inplace=True)"
   ]
  },
  {
   "cell_type": "code",
   "execution_count": 115,
   "metadata": {
    "collapsed": true
   },
   "outputs": [],
   "source": [
    "for i, row in merge2.iterrows():\n",
    "    if row.ar_x == \"\":\n",
    "        merge2.loc[i, \"ar_x\"] = row.ar_y\n",
    "        merge2.loc[i, \"cn_x\"] = row.cn_y\n",
    "        merge2.loc[i, \"pos_x\"] = row.pos_y"
   ]
  },
  {
   "cell_type": "code",
   "execution_count": 116,
   "metadata": {},
   "outputs": [],
   "source": [
    "for i, row in merge2.iterrows():\n",
    "    if row.ar_x == \"\":\n",
    "        print(i)\n",
    "        print(row.en)\n",
    "        print()"
   ]
  },
  {
   "cell_type": "code",
   "execution_count": 117,
   "metadata": {},
   "outputs": [
    {
     "data": {
      "text/html": [
       "<div>\n",
       "<style>\n",
       "    .dataframe thead tr:only-child th {\n",
       "        text-align: right;\n",
       "    }\n",
       "\n",
       "    .dataframe thead th {\n",
       "        text-align: left;\n",
       "    }\n",
       "\n",
       "    .dataframe tbody tr th {\n",
       "        vertical-align: top;\n",
       "    }\n",
       "</style>\n",
       "<table border=\"1\" class=\"dataframe\">\n",
       "  <thead>\n",
       "    <tr style=\"text-align: right;\">\n",
       "      <th></th>\n",
       "      <th>en</th>\n",
       "      <th>ar_x</th>\n",
       "      <th>pos_x</th>\n",
       "      <th>cn_x</th>\n",
       "      <th>ar_y</th>\n",
       "      <th>cn_y</th>\n",
       "      <th>pos_y</th>\n",
       "    </tr>\n",
       "  </thead>\n",
       "  <tbody>\n",
       "    <tr>\n",
       "      <th>0</th>\n",
       "      <td>0</td>\n",
       "      <td>صفر</td>\n",
       "      <td>num</td>\n",
       "      <td>零</td>\n",
       "      <td>صفر</td>\n",
       "      <td>〇</td>\n",
       "      <td>num</td>\n",
       "    </tr>\n",
       "    <tr>\n",
       "      <th>1</th>\n",
       "      <td>1</td>\n",
       "      <td>واحد</td>\n",
       "      <td>num</td>\n",
       "      <td>一</td>\n",
       "      <td>واحد</td>\n",
       "      <td>一</td>\n",
       "      <td>num</td>\n",
       "    </tr>\n",
       "    <tr>\n",
       "      <th>2</th>\n",
       "      <td>2</td>\n",
       "      <td>إثنان</td>\n",
       "      <td>num</td>\n",
       "      <td>二</td>\n",
       "      <td>إثنان</td>\n",
       "      <td>二</td>\n",
       "      <td>num</td>\n",
       "    </tr>\n",
       "    <tr>\n",
       "      <th>3</th>\n",
       "      <td>3</td>\n",
       "      <td>ثلاثة</td>\n",
       "      <td>num</td>\n",
       "      <td>三</td>\n",
       "      <td>ثلاثة</td>\n",
       "      <td>三</td>\n",
       "      <td>num</td>\n",
       "    </tr>\n",
       "    <tr>\n",
       "      <th>4</th>\n",
       "      <td>4</td>\n",
       "      <td>أربعة</td>\n",
       "      <td>num</td>\n",
       "      <td>四</td>\n",
       "      <td>اربعة</td>\n",
       "      <td>四</td>\n",
       "      <td>num</td>\n",
       "    </tr>\n",
       "    <tr>\n",
       "      <th>5</th>\n",
       "      <td>5</td>\n",
       "      <td>خمسة</td>\n",
       "      <td>num</td>\n",
       "      <td>五</td>\n",
       "      <td>خمسة</td>\n",
       "      <td>五</td>\n",
       "      <td>num</td>\n",
       "    </tr>\n",
       "    <tr>\n",
       "      <th>6</th>\n",
       "      <td>6</td>\n",
       "      <td>ستة</td>\n",
       "      <td>num</td>\n",
       "      <td>六</td>\n",
       "      <td>ستة</td>\n",
       "      <td>六</td>\n",
       "      <td>num</td>\n",
       "    </tr>\n",
       "    <tr>\n",
       "      <th>7</th>\n",
       "      <td>7</td>\n",
       "      <td>سبعة</td>\n",
       "      <td>num</td>\n",
       "      <td>七</td>\n",
       "      <td>سبعة</td>\n",
       "      <td>七</td>\n",
       "      <td>num</td>\n",
       "    </tr>\n",
       "    <tr>\n",
       "      <th>8</th>\n",
       "      <td>8</td>\n",
       "      <td>ثمانية</td>\n",
       "      <td>num</td>\n",
       "      <td>八</td>\n",
       "      <td>ثمانية</td>\n",
       "      <td>八</td>\n",
       "      <td>num</td>\n",
       "    </tr>\n",
       "    <tr>\n",
       "      <th>9</th>\n",
       "      <td>9</td>\n",
       "      <td>تسعة</td>\n",
       "      <td>num</td>\n",
       "      <td>九</td>\n",
       "      <td>تسعة</td>\n",
       "      <td>九</td>\n",
       "      <td>num</td>\n",
       "    </tr>\n",
       "  </tbody>\n",
       "</table>\n",
       "</div>"
      ],
      "text/plain": [
       "  en    ar_x pos_x cn_x    ar_y cn_y pos_y\n",
       "0  0     صفر   num    零     صفر    〇   num\n",
       "1  1    واحد   num    一    واحد    一   num\n",
       "2  2   إثنان   num    二   إثنان    二   num\n",
       "3  3   ثلاثة   num    三   ثلاثة    三   num\n",
       "4  4   أربعة   num    四   اربعة    四   num\n",
       "5  5    خمسة   num    五    خمسة    五   num\n",
       "6  6     ستة   num    六     ستة    六   num\n",
       "7  7    سبعة   num    七    سبعة    七   num\n",
       "8  8  ثمانية   num    八  ثمانية    八   num\n",
       "9  9    تسعة   num    九    تسعة    九   num"
      ]
     },
     "execution_count": 117,
     "metadata": {},
     "output_type": "execute_result"
    }
   ],
   "source": [
    "merge2.head(10)"
   ]
  },
  {
   "cell_type": "code",
   "execution_count": 118,
   "metadata": {
    "collapsed": true
   },
   "outputs": [],
   "source": [
    "merge2.drop(['ar_y','cn_y','pos_y'],axis=1,inplace=True)"
   ]
  },
  {
   "cell_type": "code",
   "execution_count": 119,
   "metadata": {
    "collapsed": true
   },
   "outputs": [],
   "source": [
    "final = merge2.rename(columns={'pos_x': 'pos',\"ar_x\":\"ar\",\"cn_x\":\"cn\"})"
   ]
  },
  {
   "cell_type": "code",
   "execution_count": 120,
   "metadata": {},
   "outputs": [
    {
     "data": {
      "text/html": [
       "<div>\n",
       "<style>\n",
       "    .dataframe thead tr:only-child th {\n",
       "        text-align: right;\n",
       "    }\n",
       "\n",
       "    .dataframe thead th {\n",
       "        text-align: left;\n",
       "    }\n",
       "\n",
       "    .dataframe tbody tr th {\n",
       "        vertical-align: top;\n",
       "    }\n",
       "</style>\n",
       "<table border=\"1\" class=\"dataframe\">\n",
       "  <thead>\n",
       "    <tr style=\"text-align: right;\">\n",
       "      <th></th>\n",
       "      <th>en</th>\n",
       "      <th>ar</th>\n",
       "      <th>pos</th>\n",
       "      <th>cn</th>\n",
       "    </tr>\n",
       "  </thead>\n",
       "  <tbody>\n",
       "    <tr>\n",
       "      <th>0</th>\n",
       "      <td>0</td>\n",
       "      <td>صفر</td>\n",
       "      <td>num</td>\n",
       "      <td>零</td>\n",
       "    </tr>\n",
       "    <tr>\n",
       "      <th>1</th>\n",
       "      <td>1</td>\n",
       "      <td>واحد</td>\n",
       "      <td>num</td>\n",
       "      <td>一</td>\n",
       "    </tr>\n",
       "    <tr>\n",
       "      <th>2</th>\n",
       "      <td>2</td>\n",
       "      <td>إثنان</td>\n",
       "      <td>num</td>\n",
       "      <td>二</td>\n",
       "    </tr>\n",
       "    <tr>\n",
       "      <th>3</th>\n",
       "      <td>3</td>\n",
       "      <td>ثلاثة</td>\n",
       "      <td>num</td>\n",
       "      <td>三</td>\n",
       "    </tr>\n",
       "    <tr>\n",
       "      <th>4</th>\n",
       "      <td>4</td>\n",
       "      <td>أربعة</td>\n",
       "      <td>num</td>\n",
       "      <td>四</td>\n",
       "    </tr>\n",
       "  </tbody>\n",
       "</table>\n",
       "</div>"
      ],
      "text/plain": [
       "  en     ar  pos cn\n",
       "0  0    صفر  num  零\n",
       "1  1   واحد  num  一\n",
       "2  2  إثنان  num  二\n",
       "3  3  ثلاثة  num  三\n",
       "4  4  أربعة  num  四"
      ]
     },
     "execution_count": 120,
     "metadata": {},
     "output_type": "execute_result"
    }
   ],
   "source": [
    "final.head()"
   ]
  },
  {
   "cell_type": "code",
   "execution_count": 124,
   "metadata": {},
   "outputs": [
    {
     "data": {
      "text/html": [
       "<div>\n",
       "<style>\n",
       "    .dataframe thead tr:only-child th {\n",
       "        text-align: right;\n",
       "    }\n",
       "\n",
       "    .dataframe thead th {\n",
       "        text-align: left;\n",
       "    }\n",
       "\n",
       "    .dataframe tbody tr th {\n",
       "        vertical-align: top;\n",
       "    }\n",
       "</style>\n",
       "<table border=\"1\" class=\"dataframe\">\n",
       "  <thead>\n",
       "    <tr style=\"text-align: right;\">\n",
       "      <th></th>\n",
       "      <th>en</th>\n",
       "      <th>ar</th>\n",
       "      <th>pos</th>\n",
       "      <th>cn</th>\n",
       "    </tr>\n",
       "  </thead>\n",
       "  <tbody>\n",
       "    <tr>\n",
       "      <th>567</th>\n",
       "      <td>What would you like?</td>\n",
       "      <td>ماذا تحب؟</td>\n",
       "      <td>sent</td>\n",
       "      <td>你喜欢什么？</td>\n",
       "    </tr>\n",
       "    <tr>\n",
       "      <th>568</th>\n",
       "      <td>I would like *.</td>\n",
       "      <td>أود *.</td>\n",
       "      <td>vp</td>\n",
       "      <td>我想要 *。</td>\n",
       "    </tr>\n",
       "    <tr>\n",
       "      <th>569</th>\n",
       "      <td>mango</td>\n",
       "      <td>مانجو</td>\n",
       "      <td>np</td>\n",
       "      <td>芒果</td>\n",
       "    </tr>\n",
       "    <tr>\n",
       "      <th>570</th>\n",
       "      <td>apple</td>\n",
       "      <td>تفاحة</td>\n",
       "      <td>np</td>\n",
       "      <td>苹果</td>\n",
       "    </tr>\n",
       "    <tr>\n",
       "      <th>571</th>\n",
       "      <td>* people</td>\n",
       "      <td>* أشخاص</td>\n",
       "      <td>prt</td>\n",
       "      <td>*个人</td>\n",
       "    </tr>\n",
       "  </tbody>\n",
       "</table>\n",
       "</div>"
      ],
      "text/plain": [
       "                       en         ar   pos      cn\n",
       "567  What would you like?  ماذا تحب؟  sent  你喜欢什么？\n",
       "568       I would like *.     أود *.    vp  我想要 *。\n",
       "569                 mango      مانجو    np      芒果\n",
       "570                 apple      تفاحة    np      苹果\n",
       "571              * people    * أشخاص   prt     *个人"
      ]
     },
     "execution_count": 124,
     "metadata": {},
     "output_type": "execute_result"
    }
   ],
   "source": [
    "final.tail()"
   ]
  },
  {
   "cell_type": "code",
   "execution_count": 125,
   "metadata": {
    "collapsed": true
   },
   "outputs": [],
   "source": [
    "final.to_csv(\"finalmaster.csv\")"
   ]
  },
  {
   "cell_type": "code",
   "execution_count": null,
   "metadata": {
    "collapsed": true
   },
   "outputs": [],
   "source": []
  }
 ],
 "metadata": {
  "kernelspec": {
   "display_name": "Python 3",
   "language": "python",
   "name": "python3"
  },
  "language_info": {
   "codemirror_mode": {
    "name": "ipython",
    "version": 3
   },
   "file_extension": ".py",
   "mimetype": "text/x-python",
   "name": "python",
   "nbconvert_exporter": "python",
   "pygments_lexer": "ipython3",
   "version": "3.5.3"
  }
 },
 "nbformat": 4,
 "nbformat_minor": 2
}
