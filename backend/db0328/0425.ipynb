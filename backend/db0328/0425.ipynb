{
 "cells": [
  {
   "cell_type": "code",
   "execution_count": 62,
   "metadata": {
    "collapsed": true
   },
   "outputs": [],
   "source": [
    "import pandas as pd\n",
    "import numpy as np"
   ]
  },
  {
   "cell_type": "code",
   "execution_count": 5,
   "metadata": {
    "collapsed": true
   },
   "outputs": [],
   "source": [
    "ardf = pd.read_csv(\"ar0425.csv\")"
   ]
  },
  {
   "cell_type": "code",
   "execution_count": 6,
   "metadata": {
    "collapsed": false
   },
   "outputs": [],
   "source": [
    "tridf = pd.read_csv(\"merged0425.csv\")"
   ]
  },
  {
   "cell_type": "code",
   "execution_count": 7,
   "metadata": {
    "collapsed": false
   },
   "outputs": [
    {
     "data": {
      "text/plain": [
       "(2860, 4)"
      ]
     },
     "execution_count": 7,
     "metadata": {},
     "output_type": "execute_result"
    }
   ],
   "source": [
    "tridf.shape"
   ]
  },
  {
   "cell_type": "code",
   "execution_count": 8,
   "metadata": {
    "collapsed": false
   },
   "outputs": [
    {
     "data": {
      "text/plain": [
       "(2518, 6)"
      ]
     },
     "execution_count": 8,
     "metadata": {},
     "output_type": "execute_result"
    }
   ],
   "source": [
    "ardf.shape"
   ]
  },
  {
   "cell_type": "code",
   "execution_count": 18,
   "metadata": {
    "collapsed": false
   },
   "outputs": [],
   "source": [
    "ardf.drop(\"cn\",axis=1,inplace=True)"
   ]
  },
  {
   "cell_type": "code",
   "execution_count": 19,
   "metadata": {
    "collapsed": false
   },
   "outputs": [
    {
     "data": {
      "text/html": [
       "<div>\n",
       "<style scoped>\n",
       "    .dataframe tbody tr th:only-of-type {\n",
       "        vertical-align: middle;\n",
       "    }\n",
       "\n",
       "    .dataframe tbody tr th {\n",
       "        vertical-align: top;\n",
       "    }\n",
       "\n",
       "    .dataframe thead th {\n",
       "        text-align: right;\n",
       "    }\n",
       "</style>\n",
       "<table border=\"1\" class=\"dataframe\">\n",
       "  <thead>\n",
       "    <tr style=\"text-align: right;\">\n",
       "      <th></th>\n",
       "      <th>en</th>\n",
       "      <th>ar</th>\n",
       "      <th>pos</th>\n",
       "    </tr>\n",
       "  </thead>\n",
       "  <tbody>\n",
       "    <tr>\n",
       "      <th>0</th>\n",
       "      <td>* a.m.</td>\n",
       "      <td>* صباحًا</td>\n",
       "      <td>prt</td>\n",
       "    </tr>\n",
       "    <tr>\n",
       "      <th>1</th>\n",
       "      <td>* airlines has a flight leaving at *.</td>\n",
       "      <td>* شركة الطيران لديها رحلة مغادرة في *</td>\n",
       "      <td>vp</td>\n",
       "    </tr>\n",
       "    <tr>\n",
       "      <th>2</th>\n",
       "      <td>* and * , please.</td>\n",
       "      <td>من فضلك أعطني * و *.</td>\n",
       "      <td>vp</td>\n",
       "    </tr>\n",
       "    <tr>\n",
       "      <th>3</th>\n",
       "      <td>* day(s)</td>\n",
       "      <td>‏* أيام</td>\n",
       "      <td>prt</td>\n",
       "    </tr>\n",
       "    <tr>\n",
       "      <th>4</th>\n",
       "      <td>* dinar</td>\n",
       "      <td>* دينار</td>\n",
       "      <td>prt</td>\n",
       "    </tr>\n",
       "  </tbody>\n",
       "</table>\n",
       "</div>"
      ],
      "text/plain": [
       "                                      en  \\\n",
       "0                                 * a.m.   \n",
       "1  * airlines has a flight leaving at *.   \n",
       "2                      * and * , please.   \n",
       "3                               * day(s)   \n",
       "4                                * dinar   \n",
       "\n",
       "                                      ar  pos  \n",
       "0                               * صباحًا  prt  \n",
       "1  * شركة الطيران لديها رحلة مغادرة في *   vp  \n",
       "2                   من فضلك أعطني * و *.   vp  \n",
       "3                                ‏* أيام  prt  \n",
       "4                                * دينار  prt  "
      ]
     },
     "execution_count": 19,
     "metadata": {},
     "output_type": "execute_result"
    }
   ],
   "source": [
    "ardf.head()"
   ]
  },
  {
   "cell_type": "code",
   "execution_count": 32,
   "metadata": {
    "collapsed": false
   },
   "outputs": [],
   "source": [
    "join = tridf.join(ardf, on=\"en\", lsuffix='big', rsuffix='small')"
   ]
  },
  {
   "cell_type": "code",
   "execution_count": 76,
   "metadata": {
    "collapsed": true
   },
   "outputs": [],
   "source": [
    "merge = pd.merge(tridf, ardf, on='en', how='outer')"
   ]
  },
  {
   "cell_type": "code",
   "execution_count": 77,
   "metadata": {
    "collapsed": false
   },
   "outputs": [
    {
     "data": {
      "text/plain": [
       "(3032, 6)"
      ]
     },
     "execution_count": 77,
     "metadata": {},
     "output_type": "execute_result"
    }
   ],
   "source": [
    "merge.shape"
   ]
  },
  {
   "cell_type": "code",
   "execution_count": 78,
   "metadata": {
    "collapsed": false
   },
   "outputs": [
    {
     "data": {
      "text/html": [
       "<div>\n",
       "<style scoped>\n",
       "    .dataframe tbody tr th:only-of-type {\n",
       "        vertical-align: middle;\n",
       "    }\n",
       "\n",
       "    .dataframe tbody tr th {\n",
       "        vertical-align: top;\n",
       "    }\n",
       "\n",
       "    .dataframe thead th {\n",
       "        text-align: right;\n",
       "    }\n",
       "</style>\n",
       "<table border=\"1\" class=\"dataframe\">\n",
       "  <thead>\n",
       "    <tr style=\"text-align: right;\">\n",
       "      <th></th>\n",
       "      <th>en</th>\n",
       "      <th>cn</th>\n",
       "      <th>ar_x</th>\n",
       "      <th>pos_x</th>\n",
       "      <th>ar_y</th>\n",
       "      <th>pos_y</th>\n",
       "    </tr>\n",
       "  </thead>\n",
       "  <tbody>\n",
       "    <tr>\n",
       "      <th>0</th>\n",
       "      <td>* a.m.</td>\n",
       "      <td>下午*点</td>\n",
       "      <td>* صباحًا</td>\n",
       "      <td>prt</td>\n",
       "      <td>* صباحًا</td>\n",
       "      <td>prt</td>\n",
       "    </tr>\n",
       "    <tr>\n",
       "      <th>1</th>\n",
       "      <td>* airlines has a flight leaving at *.</td>\n",
       "      <td>*航空公司有一架班机，在*起飞。</td>\n",
       "      <td>NaN</td>\n",
       "      <td>vp</td>\n",
       "      <td>* شركة الطيران لديها رحلة مغادرة في *</td>\n",
       "      <td>vp</td>\n",
       "    </tr>\n",
       "    <tr>\n",
       "      <th>2</th>\n",
       "      <td>* and * , please.</td>\n",
       "      <td>请给我*和*。</td>\n",
       "      <td>من فضلك أعطني * و *.</td>\n",
       "      <td>vp</td>\n",
       "      <td>من فضلك أعطني * و *.</td>\n",
       "      <td>vp</td>\n",
       "    </tr>\n",
       "    <tr>\n",
       "      <th>3</th>\n",
       "      <td>* day(s)</td>\n",
       "      <td>*天</td>\n",
       "      <td>‏* أيام</td>\n",
       "      <td>prt</td>\n",
       "      <td>‏* أيام</td>\n",
       "      <td>prt</td>\n",
       "    </tr>\n",
       "    <tr>\n",
       "      <th>4</th>\n",
       "      <td>* dinar</td>\n",
       "      <td>第纳尔</td>\n",
       "      <td>دينار</td>\n",
       "      <td>prt</td>\n",
       "      <td>* دينار</td>\n",
       "      <td>prt</td>\n",
       "    </tr>\n",
       "  </tbody>\n",
       "</table>\n",
       "</div>"
      ],
      "text/plain": [
       "                                      en                cn  \\\n",
       "0                                 * a.m.              下午*点   \n",
       "1  * airlines has a flight leaving at *.  *航空公司有一架班机，在*起飞。   \n",
       "2                      * and * , please.           请给我*和*。   \n",
       "3                               * day(s)                *天   \n",
       "4                                * dinar               第纳尔   \n",
       "\n",
       "                   ar_x pos_x                                   ar_y pos_y  \n",
       "0              * صباحًا   prt                               * صباحًا   prt  \n",
       "1                   NaN    vp  * شركة الطيران لديها رحلة مغادرة في *    vp  \n",
       "2  من فضلك أعطني * و *.    vp                   من فضلك أعطني * و *.    vp  \n",
       "3               ‏* أيام   prt                                ‏* أيام   prt  \n",
       "4                 دينار   prt                                * دينار   prt  "
      ]
     },
     "execution_count": 78,
     "metadata": {},
     "output_type": "execute_result"
    }
   ],
   "source": [
    "merge.head()"
   ]
  },
  {
   "cell_type": "code",
   "execution_count": 80,
   "metadata": {
    "collapsed": false
   },
   "outputs": [],
   "source": [
    "merge.ar_x.fillna(merge.ar_y, inplace=True)\n",
    "merge.pos_x.fillna(merge.pos_y, inplace=True)\n"
   ]
  },
  {
   "cell_type": "code",
   "execution_count": 89,
   "metadata": {
    "collapsed": false
   },
   "outputs": [],
   "source": [
    "missing_ar = merge[merge.ar_x.isnull()]"
   ]
  },
  {
   "cell_type": "code",
   "execution_count": 90,
   "metadata": {
    "collapsed": false
   },
   "outputs": [],
   "source": [
    "missing_ar.to_csv(\"missing_ar.csv\")"
   ]
  },
  {
   "cell_type": "code",
   "execution_count": 95,
   "metadata": {
    "collapsed": true
   },
   "outputs": [],
   "source": [
    "merge.loc[2639,\"pos_x\"] = \"np\"\n",
    "merge.loc[2641,\"pos_x\"] = \"sent\""
   ]
  },
  {
   "cell_type": "code",
   "execution_count": 101,
   "metadata": {
    "collapsed": false
   },
   "outputs": [],
   "source": [
    "merge = merge.drop([\"ar_y\",\"pos_y\"], axis=1)"
   ]
  },
  {
   "cell_type": "code",
   "execution_count": 105,
   "metadata": {
    "collapsed": false
   },
   "outputs": [],
   "source": [
    "merge = merge.rename(index=str, columns={\"ar_x\": \"ar\", \"pos_x\": \"pos\"})"
   ]
  },
  {
   "cell_type": "code",
   "execution_count": 108,
   "metadata": {
    "collapsed": false
   },
   "outputs": [],
   "source": [
    "merge.duplicated?"
   ]
  },
  {
   "cell_type": "code",
   "execution_count": 159,
   "metadata": {
    "collapsed": false
   },
   "outputs": [],
   "source": [
    "merge = merge.drop_duplicates(\"en\", keep=\"first\")\n",
    "#dupl = merge[merge.duplicated(['en'], keep=\"last\")]"
   ]
  },
  {
   "cell_type": "code",
   "execution_count": 161,
   "metadata": {
    "collapsed": false
   },
   "outputs": [],
   "source": [
    "merge = pd.merge(merge, du, on=\"en\", how=\"outer\")"
   ]
  },
  {
   "cell_type": "code",
   "execution_count": 130,
   "metadata": {
    "collapsed": false
   },
   "outputs": [],
   "source": [
    "dupl = dupl.reset_index()\n",
    "dupf = dupf.reset_index()"
   ]
  },
  {
   "cell_type": "code",
   "execution_count": 132,
   "metadata": {
    "collapsed": false
   },
   "outputs": [],
   "source": [
    "dupl = dupl.dropna()"
   ]
  },
  {
   "cell_type": "code",
   "execution_count": 145,
   "metadata": {
    "collapsed": false
   },
   "outputs": [],
   "source": [
    "ardup = pd.merge(dupl, dupf, on='en', how='outer')"
   ]
  },
  {
   "cell_type": "code",
   "execution_count": 146,
   "metadata": {
    "collapsed": false
   },
   "outputs": [],
   "source": [
    "ardup.ar_x = ardup.ar_x.fillna(ardup.ar_y)"
   ]
  },
  {
   "cell_type": "code",
   "execution_count": 149,
   "metadata": {
    "collapsed": false
   },
   "outputs": [],
   "source": [
    "for i, row in ardup.iterrows():\n",
    "    if row.ar_x != row.ar_y:\n",
    "        ardup.loc[i, \"ar_x\"] = row.ar_y\n"
   ]
  },
  {
   "cell_type": "code",
   "execution_count": 151,
   "metadata": {
    "collapsed": false
   },
   "outputs": [],
   "source": [
    "du = ardup[[\"en\",\"ar_x\"]]"
   ]
  },
  {
   "cell_type": "code",
   "execution_count": 152,
   "metadata": {
    "collapsed": false
   },
   "outputs": [
    {
     "data": {
      "text/plain": [
       "(90, 2)"
      ]
     },
     "execution_count": 152,
     "metadata": {},
     "output_type": "execute_result"
    }
   ],
   "source": [
    "du.shape"
   ]
  },
  {
   "cell_type": "code",
   "execution_count": 153,
   "metadata": {
    "collapsed": false
   },
   "outputs": [
    {
     "data": {
      "text/html": [
       "<div>\n",
       "<style scoped>\n",
       "    .dataframe tbody tr th:only-of-type {\n",
       "        vertical-align: middle;\n",
       "    }\n",
       "\n",
       "    .dataframe tbody tr th {\n",
       "        vertical-align: top;\n",
       "    }\n",
       "\n",
       "    .dataframe thead th {\n",
       "        text-align: right;\n",
       "    }\n",
       "</style>\n",
       "<table border=\"1\" class=\"dataframe\">\n",
       "  <thead>\n",
       "    <tr style=\"text-align: right;\">\n",
       "      <th></th>\n",
       "      <th>en</th>\n",
       "      <th>ar_x</th>\n",
       "    </tr>\n",
       "  </thead>\n",
       "  <tbody>\n",
       "    <tr>\n",
       "      <th>85</th>\n",
       "      <td>Your meal, we're really sorry for the delay.</td>\n",
       "      <td>تفضل وجبتك, نحن اسفون جدا على التأخير.</td>\n",
       "    </tr>\n",
       "    <tr>\n",
       "      <th>86</th>\n",
       "      <td>Your seat is confirmed on flight number * leav...</td>\n",
       "      <td>تم تأكيد مقعدك على الرحلة رقم * المغادرة الساعة *</td>\n",
       "    </tr>\n",
       "    <tr>\n",
       "      <th>87</th>\n",
       "      <td>Your seat is in the middle of the cabin.</td>\n",
       "      <td>مقعدك في منتصف المقصورة</td>\n",
       "    </tr>\n",
       "    <tr>\n",
       "      <th>88</th>\n",
       "      <td>You can surf the Internet while enjoying your ...</td>\n",
       "      <td>NaN</td>\n",
       "    </tr>\n",
       "    <tr>\n",
       "      <th>89</th>\n",
       "      <td>NaN</td>\n",
       "      <td>NaN</td>\n",
       "    </tr>\n",
       "  </tbody>\n",
       "</table>\n",
       "</div>"
      ],
      "text/plain": [
       "                                                   en  \\\n",
       "85       Your meal, we're really sorry for the delay.   \n",
       "86  Your seat is confirmed on flight number * leav...   \n",
       "87           Your seat is in the middle of the cabin.   \n",
       "88  You can surf the Internet while enjoying your ...   \n",
       "89                                                NaN   \n",
       "\n",
       "                                                 ar_x  \n",
       "85             تفضل وجبتك, نحن اسفون جدا على التأخير.  \n",
       "86  تم تأكيد مقعدك على الرحلة رقم * المغادرة الساعة *  \n",
       "87                            مقعدك في منتصف المقصورة  \n",
       "88                                                NaN  \n",
       "89                                                NaN  "
      ]
     },
     "execution_count": 153,
     "metadata": {},
     "output_type": "execute_result"
    }
   ],
   "source": [
    "du.tail()"
   ]
  },
  {
   "cell_type": "code",
   "execution_count": 163,
   "metadata": {
    "collapsed": false
   },
   "outputs": [
    {
     "data": {
      "text/plain": [
       "(2952, 5)"
      ]
     },
     "execution_count": 163,
     "metadata": {},
     "output_type": "execute_result"
    }
   ],
   "source": [
    "merge.shape"
   ]
  },
  {
   "cell_type": "code",
   "execution_count": 164,
   "metadata": {
    "collapsed": false
   },
   "outputs": [
    {
     "data": {
      "text/html": [
       "<div>\n",
       "<style scoped>\n",
       "    .dataframe tbody tr th:only-of-type {\n",
       "        vertical-align: middle;\n",
       "    }\n",
       "\n",
       "    .dataframe tbody tr th {\n",
       "        vertical-align: top;\n",
       "    }\n",
       "\n",
       "    .dataframe thead th {\n",
       "        text-align: right;\n",
       "    }\n",
       "</style>\n",
       "<table border=\"1\" class=\"dataframe\">\n",
       "  <thead>\n",
       "    <tr style=\"text-align: right;\">\n",
       "      <th></th>\n",
       "      <th>en</th>\n",
       "      <th>cn</th>\n",
       "      <th>ar</th>\n",
       "      <th>pos</th>\n",
       "      <th>ar_x</th>\n",
       "    </tr>\n",
       "  </thead>\n",
       "  <tbody>\n",
       "    <tr>\n",
       "      <th>0</th>\n",
       "      <td>* a.m.</td>\n",
       "      <td>下午*点</td>\n",
       "      <td>* صباحًا</td>\n",
       "      <td>prt</td>\n",
       "      <td>NaN</td>\n",
       "    </tr>\n",
       "    <tr>\n",
       "      <th>1</th>\n",
       "      <td>* airlines has a flight leaving at *.</td>\n",
       "      <td>*航空公司有一架班机，在*起飞。</td>\n",
       "      <td>* شركة الطيران لديها رحلة مغادرة في *</td>\n",
       "      <td>vp</td>\n",
       "      <td>NaN</td>\n",
       "    </tr>\n",
       "    <tr>\n",
       "      <th>2</th>\n",
       "      <td>* and * , please.</td>\n",
       "      <td>请给我*和*。</td>\n",
       "      <td>من فضلك أعطني * و *.</td>\n",
       "      <td>vp</td>\n",
       "      <td>NaN</td>\n",
       "    </tr>\n",
       "    <tr>\n",
       "      <th>3</th>\n",
       "      <td>* day(s)</td>\n",
       "      <td>*天</td>\n",
       "      <td>‏* أيام</td>\n",
       "      <td>prt</td>\n",
       "      <td>NaN</td>\n",
       "    </tr>\n",
       "    <tr>\n",
       "      <th>4</th>\n",
       "      <td>* dinar</td>\n",
       "      <td>第纳尔</td>\n",
       "      <td>دينار</td>\n",
       "      <td>prt</td>\n",
       "      <td>NaN</td>\n",
       "    </tr>\n",
       "  </tbody>\n",
       "</table>\n",
       "</div>"
      ],
      "text/plain": [
       "                                      en                cn  \\\n",
       "0                                 * a.m.              下午*点   \n",
       "1  * airlines has a flight leaving at *.  *航空公司有一架班机，在*起飞。   \n",
       "2                      * and * , please.           请给我*和*。   \n",
       "3                               * day(s)                *天   \n",
       "4                                * dinar               第纳尔   \n",
       "\n",
       "                                      ar  pos ar_x  \n",
       "0                               * صباحًا  prt  NaN  \n",
       "1  * شركة الطيران لديها رحلة مغادرة في *   vp  NaN  \n",
       "2                   من فضلك أعطني * و *.   vp  NaN  \n",
       "3                                ‏* أيام  prt  NaN  \n",
       "4                                  دينار  prt  NaN  "
      ]
     },
     "execution_count": 164,
     "metadata": {},
     "output_type": "execute_result"
    }
   ],
   "source": [
    "merge.head()"
   ]
  },
  {
   "cell_type": "code",
   "execution_count": 166,
   "metadata": {
    "collapsed": false
   },
   "outputs": [],
   "source": [
    "for i,row in merge.iterrows():\n",
    "    if not pd.isnull(row.ar_x):\n",
    "        merge.loc[i, \"ar\"] = row.ar_x"
   ]
  },
  {
   "cell_type": "code",
   "execution_count": 172,
   "metadata": {
    "collapsed": false
   },
   "outputs": [
    {
     "data": {
      "text/plain": [
       "1"
      ]
     },
     "execution_count": 172,
     "metadata": {},
     "output_type": "execute_result"
    }
   ],
   "source": [
    "len(merge) - merge.en.count()"
   ]
  },
  {
   "cell_type": "code",
   "execution_count": 173,
   "metadata": {
    "collapsed": true
   },
   "outputs": [],
   "source": [
    "merge.drop(\"ar_x\",axis=1,inplace=True)"
   ]
  },
  {
   "cell_type": "code",
   "execution_count": 180,
   "metadata": {
    "collapsed": false
   },
   "outputs": [],
   "source": [
    "for i,row in merge.iterrows():\n",
    "    if pd.isnull(row.cn) or pd.isnull(row.en):\n",
    "        merge.drop(i,inplace=True)"
   ]
  },
  {
   "cell_type": "code",
   "execution_count": 181,
   "metadata": {
    "collapsed": false
   },
   "outputs": [
    {
     "data": {
      "text/plain": [
       "0"
      ]
     },
     "execution_count": 181,
     "metadata": {},
     "output_type": "execute_result"
    }
   ],
   "source": [
    "len(merge) - merge.en.count()"
   ]
  },
  {
   "cell_type": "code",
   "execution_count": 182,
   "metadata": {
    "collapsed": false
   },
   "outputs": [
    {
     "data": {
      "text/plain": [
       "(2824, 4)"
      ]
     },
     "execution_count": 182,
     "metadata": {},
     "output_type": "execute_result"
    }
   ],
   "source": [
    "merge.shape"
   ]
  },
  {
   "cell_type": "code",
   "execution_count": 184,
   "metadata": {
    "collapsed": false
   },
   "outputs": [
    {
     "data": {
      "text/html": [
       "<div>\n",
       "<style scoped>\n",
       "    .dataframe tbody tr th:only-of-type {\n",
       "        vertical-align: middle;\n",
       "    }\n",
       "\n",
       "    .dataframe tbody tr th {\n",
       "        vertical-align: top;\n",
       "    }\n",
       "\n",
       "    .dataframe thead th {\n",
       "        text-align: right;\n",
       "    }\n",
       "</style>\n",
       "<table border=\"1\" class=\"dataframe\">\n",
       "  <thead>\n",
       "    <tr style=\"text-align: right;\">\n",
       "      <th></th>\n",
       "      <th>en</th>\n",
       "      <th>cn</th>\n",
       "      <th>ar</th>\n",
       "      <th>pos</th>\n",
       "    </tr>\n",
       "  </thead>\n",
       "  <tbody>\n",
       "    <tr>\n",
       "      <th>2796</th>\n",
       "      <td>stuffed</td>\n",
       "      <td>填充的</td>\n",
       "      <td>محشي</td>\n",
       "      <td>adj</td>\n",
       "    </tr>\n",
       "    <tr>\n",
       "      <th>2797</th>\n",
       "      <td>minced</td>\n",
       "      <td>剁碎</td>\n",
       "      <td>مفروم</td>\n",
       "      <td>adj</td>\n",
       "    </tr>\n",
       "    <tr>\n",
       "      <th>2798</th>\n",
       "      <td>crunchy</td>\n",
       "      <td>脆脆</td>\n",
       "      <td>مقرمش</td>\n",
       "      <td>adj</td>\n",
       "    </tr>\n",
       "    <tr>\n",
       "      <th>2799</th>\n",
       "      <td>raw</td>\n",
       "      <td>生的</td>\n",
       "      <td>نئ</td>\n",
       "      <td>adj</td>\n",
       "    </tr>\n",
       "    <tr>\n",
       "      <th>2800</th>\n",
       "      <td>delicious</td>\n",
       "      <td>美味的</td>\n",
       "      <td>لذيذ</td>\n",
       "      <td>adj</td>\n",
       "    </tr>\n",
       "    <tr>\n",
       "      <th>2801</th>\n",
       "      <td>appetizing</td>\n",
       "      <td>开胃的</td>\n",
       "      <td>شهي</td>\n",
       "      <td>adj</td>\n",
       "    </tr>\n",
       "    <tr>\n",
       "      <th>2802</th>\n",
       "      <td>I would like to buy *.</td>\n",
       "      <td>我想要买*</td>\n",
       "      <td>أريد أن أشتري *.</td>\n",
       "      <td>vp</td>\n",
       "    </tr>\n",
       "    <tr>\n",
       "      <th>2803</th>\n",
       "      <td>I would like to get a room.</td>\n",
       "      <td>我想要一个房间。</td>\n",
       "      <td>أود الحصول على غرفة.</td>\n",
       "      <td>sent</td>\n",
       "    </tr>\n",
       "    <tr>\n",
       "      <th>2804</th>\n",
       "      <td>Can I get that one?</td>\n",
       "      <td>我可以有那个吗？</td>\n",
       "      <td>هل يمكنني الحصول على ذلك؟</td>\n",
       "      <td>sent</td>\n",
       "    </tr>\n",
       "    <tr>\n",
       "      <th>2805</th>\n",
       "      <td>buy</td>\n",
       "      <td>买</td>\n",
       "      <td>يشترى</td>\n",
       "      <td>vp</td>\n",
       "    </tr>\n",
       "    <tr>\n",
       "      <th>2806</th>\n",
       "      <td>Sorry, we only have those.</td>\n",
       "      <td>不好意思，我只有那些。</td>\n",
       "      <td>عذرا ، ليس لدينا سوى هؤلاء.</td>\n",
       "      <td>sent</td>\n",
       "    </tr>\n",
       "    <tr>\n",
       "      <th>2807</th>\n",
       "      <td>Sorry, we only have that one.</td>\n",
       "      <td>不好意思，我只有那个。</td>\n",
       "      <td>عذرا ، ليس لدينا سوى ذلك واحد.</td>\n",
       "      <td>sent</td>\n",
       "    </tr>\n",
       "    <tr>\n",
       "      <th>2808</th>\n",
       "      <td>When is the earliest flight to *?</td>\n",
       "      <td>最早的班机是什么时候？</td>\n",
       "      <td>متى تكون أول رحلة طيران إلى *؟</td>\n",
       "      <td>vp</td>\n",
       "    </tr>\n",
       "    <tr>\n",
       "      <th>2809</th>\n",
       "      <td>I only have *.</td>\n",
       "      <td>我只有*</td>\n",
       "      <td>لدي فقط *.</td>\n",
       "      <td>vp</td>\n",
       "    </tr>\n",
       "    <tr>\n",
       "      <th>2810</th>\n",
       "      <td>Credit card</td>\n",
       "      <td>信用卡</td>\n",
       "      <td>بطاقة ائتمان</td>\n",
       "      <td>np</td>\n",
       "    </tr>\n",
       "    <tr>\n",
       "      <th>2811</th>\n",
       "      <td>Debit card</td>\n",
       "      <td>借记卡</td>\n",
       "      <td>بطاقة ائتمان</td>\n",
       "      <td>np</td>\n",
       "    </tr>\n",
       "    <tr>\n",
       "      <th>2812</th>\n",
       "      <td>Cash</td>\n",
       "      <td>现金</td>\n",
       "      <td>السيولة النقدية</td>\n",
       "      <td>np</td>\n",
       "    </tr>\n",
       "    <tr>\n",
       "      <th>2813</th>\n",
       "      <td>It's at *.</td>\n",
       "      <td>在*</td>\n",
       "      <td>انه عند *.</td>\n",
       "      <td>vp</td>\n",
       "    </tr>\n",
       "    <tr>\n",
       "      <th>2814</th>\n",
       "      <td>supervisor</td>\n",
       "      <td>主管</td>\n",
       "      <td>مشرف</td>\n",
       "      <td>np</td>\n",
       "    </tr>\n",
       "    <tr>\n",
       "      <th>2815</th>\n",
       "      <td>When is the flight landing in *?</td>\n",
       "      <td>班机何时抵达*？</td>\n",
       "      <td>متى تهبط الرحلة في *؟</td>\n",
       "      <td>vp</td>\n",
       "    </tr>\n",
       "    <tr>\n",
       "      <th>2816</th>\n",
       "      <td>per night</td>\n",
       "      <td>每晚</td>\n",
       "      <td>لليلة الواحدة</td>\n",
       "      <td>adv</td>\n",
       "    </tr>\n",
       "    <tr>\n",
       "      <th>2817</th>\n",
       "      <td>how many *?</td>\n",
       "      <td>几个*？</td>\n",
       "      <td>كم العدد *؟</td>\n",
       "      <td>vp</td>\n",
       "    </tr>\n",
       "    <tr>\n",
       "      <th>2818</th>\n",
       "      <td>in a rush</td>\n",
       "      <td>赶时间</td>\n",
       "      <td>مستعجل، في عجلة من أمري</td>\n",
       "      <td>adv</td>\n",
       "    </tr>\n",
       "    <tr>\n",
       "      <th>2819</th>\n",
       "      <td>How much does it cost?</td>\n",
       "      <td>多少钱？</td>\n",
       "      <td>كم يكلف؟</td>\n",
       "      <td>sent</td>\n",
       "    </tr>\n",
       "    <tr>\n",
       "      <th>2820</th>\n",
       "      <td>as soon as possible</td>\n",
       "      <td>尽早</td>\n",
       "      <td>في أقرب وقت ممكن</td>\n",
       "      <td>adv</td>\n",
       "    </tr>\n",
       "    <tr>\n",
       "      <th>2821</th>\n",
       "      <td>Where would you like to go?</td>\n",
       "      <td>您想去哪里？</td>\n",
       "      <td>أين تريد أن تذهب؟</td>\n",
       "      <td>sent</td>\n",
       "    </tr>\n",
       "    <tr>\n",
       "      <th>2822</th>\n",
       "      <td>That flight costs *.</td>\n",
       "      <td>那班飞机价钱是*。</td>\n",
       "      <td>تكاليف الرحلة *.</td>\n",
       "      <td>vp</td>\n",
       "    </tr>\n",
       "    <tr>\n",
       "      <th>2823</th>\n",
       "      <td>It costs *.</td>\n",
       "      <td>价钱是*。</td>\n",
       "      <td>يكلف *.</td>\n",
       "      <td>vp</td>\n",
       "    </tr>\n",
       "    <tr>\n",
       "      <th>2824</th>\n",
       "      <td>Which flight would you like?</td>\n",
       "      <td>您想要哪班飞机？</td>\n",
       "      <td>أي رحلة تود؟</td>\n",
       "      <td>sent</td>\n",
       "    </tr>\n",
       "    <tr>\n",
       "      <th>2825</th>\n",
       "      <td>How much are you willing to pay?</td>\n",
       "      <td>您愿意付多少钱？</td>\n",
       "      <td>كم أنت على استعداد لدفع؟</td>\n",
       "      <td>sent</td>\n",
       "    </tr>\n",
       "  </tbody>\n",
       "</table>\n",
       "</div>"
      ],
      "text/plain": [
       "                                     en           cn  \\\n",
       "2796                            stuffed          填充的   \n",
       "2797                             minced           剁碎   \n",
       "2798                            crunchy           脆脆   \n",
       "2799                                raw           生的   \n",
       "2800                          delicious          美味的   \n",
       "2801                         appetizing          开胃的   \n",
       "2802             I would like to buy *.        我想要买*   \n",
       "2803        I would like to get a room.     我想要一个房间。   \n",
       "2804                Can I get that one?     我可以有那个吗？   \n",
       "2805                                buy            买   \n",
       "2806         Sorry, we only have those.  不好意思，我只有那些。   \n",
       "2807      Sorry, we only have that one.  不好意思，我只有那个。   \n",
       "2808  When is the earliest flight to *?  最早的班机是什么时候？   \n",
       "2809                     I only have *.         我只有*   \n",
       "2810                        Credit card          信用卡   \n",
       "2811                         Debit card          借记卡   \n",
       "2812                               Cash           现金   \n",
       "2813                         It's at *.           在*   \n",
       "2814                         supervisor           主管   \n",
       "2815   When is the flight landing in *?     班机何时抵达*？   \n",
       "2816                          per night           每晚   \n",
       "2817                        how many *?         几个*？   \n",
       "2818                          in a rush          赶时间   \n",
       "2819             How much does it cost?         多少钱？   \n",
       "2820                as soon as possible           尽早   \n",
       "2821        Where would you like to go?       您想去哪里？   \n",
       "2822               That flight costs *.    那班飞机价钱是*。   \n",
       "2823                        It costs *.        价钱是*。   \n",
       "2824       Which flight would you like?     您想要哪班飞机？   \n",
       "2825   How much are you willing to pay?     您愿意付多少钱？   \n",
       "\n",
       "                                  ar   pos  \n",
       "2796                            محشي   adj  \n",
       "2797                           مفروم   adj  \n",
       "2798                           مقرمش   adj  \n",
       "2799                              نئ   adj  \n",
       "2800                            لذيذ   adj  \n",
       "2801                             شهي   adj  \n",
       "2802                أريد أن أشتري *.    vp  \n",
       "2803            أود الحصول على غرفة.  sent  \n",
       "2804       هل يمكنني الحصول على ذلك؟  sent  \n",
       "2805                           يشترى    vp  \n",
       "2806     عذرا ، ليس لدينا سوى هؤلاء.  sent  \n",
       "2807  عذرا ، ليس لدينا سوى ذلك واحد.  sent  \n",
       "2808  متى تكون أول رحلة طيران إلى *؟    vp  \n",
       "2809                      لدي فقط *.    vp  \n",
       "2810                    بطاقة ائتمان    np  \n",
       "2811                    بطاقة ائتمان    np  \n",
       "2812                 السيولة النقدية    np  \n",
       "2813                      انه عند *.    vp  \n",
       "2814                            مشرف    np  \n",
       "2815           متى تهبط الرحلة في *؟    vp  \n",
       "2816                   لليلة الواحدة   adv  \n",
       "2817                     كم العدد *؟    vp  \n",
       "2818         مستعجل، في عجلة من أمري   adv  \n",
       "2819                        كم يكلف؟  sent  \n",
       "2820                في أقرب وقت ممكن   adv  \n",
       "2821               أين تريد أن تذهب؟  sent  \n",
       "2822                تكاليف الرحلة *.    vp  \n",
       "2823                         يكلف *.    vp  \n",
       "2824                    أي رحلة تود؟  sent  \n",
       "2825        كم أنت على استعداد لدفع؟  sent  "
      ]
     },
     "execution_count": 184,
     "metadata": {},
     "output_type": "execute_result"
    }
   ],
   "source": [
    "merge.tail(30)"
   ]
  },
  {
   "cell_type": "code",
   "execution_count": 185,
   "metadata": {
    "collapsed": true
   },
   "outputs": [],
   "source": [
    "noar = merge[merge.ar.isnull()]"
   ]
  },
  {
   "cell_type": "code",
   "execution_count": 186,
   "metadata": {
    "collapsed": false
   },
   "outputs": [
    {
     "data": {
      "text/plain": [
       "(177, 4)"
      ]
     },
     "execution_count": 186,
     "metadata": {},
     "output_type": "execute_result"
    }
   ],
   "source": [
    "noar.shape"
   ]
  },
  {
   "cell_type": "code",
   "execution_count": 187,
   "metadata": {
    "collapsed": true
   },
   "outputs": [],
   "source": [
    "noar.to_csv(\"missing_ar_0425.csv\")"
   ]
  },
  {
   "cell_type": "code",
   "execution_count": 189,
   "metadata": {
    "collapsed": false
   },
   "outputs": [],
   "source": [
    "merge = merge.reset_index().drop(\"index\", axis=1)"
   ]
  },
  {
   "cell_type": "code",
   "execution_count": 192,
   "metadata": {
    "collapsed": false
   },
   "outputs": [
    {
     "data": {
      "text/plain": [
       "(2824, 4)"
      ]
     },
     "execution_count": 192,
     "metadata": {},
     "output_type": "execute_result"
    }
   ],
   "source": [
    "merge.shape"
   ]
  },
  {
   "cell_type": "code",
   "execution_count": 193,
   "metadata": {
    "collapsed": true
   },
   "outputs": [],
   "source": [
    "merge.to_csv(\"master0425.csv\")"
   ]
  },
  {
   "cell_type": "code",
   "execution_count": 194,
   "metadata": {
    "collapsed": true
   },
   "outputs": [],
   "source": [
    "tr = pd.read_csv(\"artrans.csv\")"
   ]
  },
  {
   "cell_type": "code",
   "execution_count": 198,
   "metadata": {
    "collapsed": false
   },
   "outputs": [],
   "source": [
    "tr = tr.set_index(\"Unnamed: 0\")"
   ]
  },
  {
   "cell_type": "code",
   "execution_count": 199,
   "metadata": {
    "collapsed": false
   },
   "outputs": [
    {
     "ename": "ValueError",
     "evalue": "cannot index with vector containing NA / NaN values",
     "output_type": "error",
     "traceback": [
      "\u001b[0;31m---------------------------------------------------------------------------\u001b[0m",
      "\u001b[0;31mValueError\u001b[0m                                Traceback (most recent call last)",
      "\u001b[0;32m<ipython-input-199-54ba34273b0f>\u001b[0m in \u001b[0;36m<module>\u001b[0;34m()\u001b[0m\n\u001b[0;32m----> 1\u001b[0;31m \u001b[0mmerge\u001b[0m \u001b[0;34m=\u001b[0m \u001b[0mmerge\u001b[0m\u001b[0;34m[\u001b[0m\u001b[0mmerge\u001b[0m\u001b[0;34m.\u001b[0m\u001b[0mar\u001b[0m\u001b[0;34m.\u001b[0m\u001b[0mfillna\u001b[0m\u001b[0;34m(\u001b[0m\u001b[0mtr\u001b[0m\u001b[0;34m.\u001b[0m\u001b[0mar\u001b[0m\u001b[0;34m)\u001b[0m\u001b[0;34m]\u001b[0m\u001b[0;34m\u001b[0m\u001b[0m\n\u001b[0m",
      "\u001b[0;32m//anaconda/envs/py3/lib/python3.6/site-packages/pandas/core/frame.py\u001b[0m in \u001b[0;36m__getitem__\u001b[0;34m(self, key)\u001b[0m\n\u001b[1;32m   2131\u001b[0m         \u001b[0;32mif\u001b[0m \u001b[0misinstance\u001b[0m\u001b[0;34m(\u001b[0m\u001b[0mkey\u001b[0m\u001b[0;34m,\u001b[0m \u001b[0;34m(\u001b[0m\u001b[0mSeries\u001b[0m\u001b[0;34m,\u001b[0m \u001b[0mnp\u001b[0m\u001b[0;34m.\u001b[0m\u001b[0mndarray\u001b[0m\u001b[0;34m,\u001b[0m \u001b[0mIndex\u001b[0m\u001b[0;34m,\u001b[0m \u001b[0mlist\u001b[0m\u001b[0;34m)\u001b[0m\u001b[0;34m)\u001b[0m\u001b[0;34m:\u001b[0m\u001b[0;34m\u001b[0m\u001b[0m\n\u001b[1;32m   2132\u001b[0m             \u001b[0;31m# either boolean or fancy integer index\u001b[0m\u001b[0;34m\u001b[0m\u001b[0;34m\u001b[0m\u001b[0m\n\u001b[0;32m-> 2133\u001b[0;31m             \u001b[0;32mreturn\u001b[0m \u001b[0mself\u001b[0m\u001b[0;34m.\u001b[0m\u001b[0m_getitem_array\u001b[0m\u001b[0;34m(\u001b[0m\u001b[0mkey\u001b[0m\u001b[0;34m)\u001b[0m\u001b[0;34m\u001b[0m\u001b[0m\n\u001b[0m\u001b[1;32m   2134\u001b[0m         \u001b[0;32melif\u001b[0m \u001b[0misinstance\u001b[0m\u001b[0;34m(\u001b[0m\u001b[0mkey\u001b[0m\u001b[0;34m,\u001b[0m \u001b[0mDataFrame\u001b[0m\u001b[0;34m)\u001b[0m\u001b[0;34m:\u001b[0m\u001b[0;34m\u001b[0m\u001b[0m\n\u001b[1;32m   2135\u001b[0m             \u001b[0;32mreturn\u001b[0m \u001b[0mself\u001b[0m\u001b[0;34m.\u001b[0m\u001b[0m_getitem_frame\u001b[0m\u001b[0;34m(\u001b[0m\u001b[0mkey\u001b[0m\u001b[0;34m)\u001b[0m\u001b[0;34m\u001b[0m\u001b[0m\n",
      "\u001b[0;32m//anaconda/envs/py3/lib/python3.6/site-packages/pandas/core/frame.py\u001b[0m in \u001b[0;36m_getitem_array\u001b[0;34m(self, key)\u001b[0m\n\u001b[1;32m   2158\u001b[0m     \u001b[0;32mdef\u001b[0m \u001b[0m_getitem_array\u001b[0m\u001b[0;34m(\u001b[0m\u001b[0mself\u001b[0m\u001b[0;34m,\u001b[0m \u001b[0mkey\u001b[0m\u001b[0;34m)\u001b[0m\u001b[0;34m:\u001b[0m\u001b[0;34m\u001b[0m\u001b[0m\n\u001b[1;32m   2159\u001b[0m         \u001b[0;31m# also raises Exception if object array with NA values\u001b[0m\u001b[0;34m\u001b[0m\u001b[0;34m\u001b[0m\u001b[0m\n\u001b[0;32m-> 2160\u001b[0;31m         \u001b[0;32mif\u001b[0m \u001b[0mcom\u001b[0m\u001b[0;34m.\u001b[0m\u001b[0mis_bool_indexer\u001b[0m\u001b[0;34m(\u001b[0m\u001b[0mkey\u001b[0m\u001b[0;34m)\u001b[0m\u001b[0;34m:\u001b[0m\u001b[0;34m\u001b[0m\u001b[0m\n\u001b[0m\u001b[1;32m   2161\u001b[0m             \u001b[0;31m# warning here just in case -- previously __setitem__ was\u001b[0m\u001b[0;34m\u001b[0m\u001b[0;34m\u001b[0m\u001b[0m\n\u001b[1;32m   2162\u001b[0m             \u001b[0;31m# reindexing but __getitem__ was not; it seems more reasonable to\u001b[0m\u001b[0;34m\u001b[0m\u001b[0;34m\u001b[0m\u001b[0m\n",
      "\u001b[0;32m//anaconda/envs/py3/lib/python3.6/site-packages/pandas/core/common.py\u001b[0m in \u001b[0;36mis_bool_indexer\u001b[0;34m(key)\u001b[0m\n\u001b[1;32m    189\u001b[0m             \u001b[0;32mif\u001b[0m \u001b[0;32mnot\u001b[0m \u001b[0mlib\u001b[0m\u001b[0;34m.\u001b[0m\u001b[0mis_bool_array\u001b[0m\u001b[0;34m(\u001b[0m\u001b[0mkey\u001b[0m\u001b[0;34m)\u001b[0m\u001b[0;34m:\u001b[0m\u001b[0;34m\u001b[0m\u001b[0m\n\u001b[1;32m    190\u001b[0m                 \u001b[0;32mif\u001b[0m \u001b[0misna\u001b[0m\u001b[0;34m(\u001b[0m\u001b[0mkey\u001b[0m\u001b[0;34m)\u001b[0m\u001b[0;34m.\u001b[0m\u001b[0many\u001b[0m\u001b[0;34m(\u001b[0m\u001b[0;34m)\u001b[0m\u001b[0;34m:\u001b[0m\u001b[0;34m\u001b[0m\u001b[0m\n\u001b[0;32m--> 191\u001b[0;31m                     raise ValueError('cannot index with vector containing '\n\u001b[0m\u001b[1;32m    192\u001b[0m                                      'NA / NaN values')\n\u001b[1;32m    193\u001b[0m                 \u001b[0;32mreturn\u001b[0m \u001b[0;32mFalse\u001b[0m\u001b[0;34m\u001b[0m\u001b[0m\n",
      "\u001b[0;31mValueError\u001b[0m: cannot index with vector containing NA / NaN values"
     ]
    }
   ],
   "source": [
    "merge = merge[merge.ar.fillna(tr.ar)]"
   ]
  },
  {
   "cell_type": "code",
   "execution_count": 203,
   "metadata": {
    "collapsed": false
   },
   "outputs": [],
   "source": [
    "tr.drop(\"pos\",axis=1,inplace=True)"
   ]
  },
  {
   "cell_type": "code",
   "execution_count": 205,
   "metadata": {
    "collapsed": false
   },
   "outputs": [
    {
     "data": {
      "text/html": [
       "<div>\n",
       "<style scoped>\n",
       "    .dataframe tbody tr th:only-of-type {\n",
       "        vertical-align: middle;\n",
       "    }\n",
       "\n",
       "    .dataframe tbody tr th {\n",
       "        vertical-align: top;\n",
       "    }\n",
       "\n",
       "    .dataframe thead th {\n",
       "        text-align: right;\n",
       "    }\n",
       "</style>\n",
       "<table border=\"1\" class=\"dataframe\">\n",
       "  <thead>\n",
       "    <tr style=\"text-align: right;\">\n",
       "      <th></th>\n",
       "      <th>en</th>\n",
       "      <th>ar</th>\n",
       "    </tr>\n",
       "    <tr>\n",
       "      <th>Unnamed: 0</th>\n",
       "      <th></th>\n",
       "      <th></th>\n",
       "    </tr>\n",
       "  </thead>\n",
       "  <tbody>\n",
       "    <tr>\n",
       "      <th>350</th>\n",
       "      <td>coaster</td>\n",
       "      <td>السفينة</td>\n",
       "    </tr>\n",
       "    <tr>\n",
       "      <th>458</th>\n",
       "      <td>dessert plate</td>\n",
       "      <td>لوحة الحلوى</td>\n",
       "    </tr>\n",
       "    <tr>\n",
       "      <th>583</th>\n",
       "      <td>elder brother</td>\n",
       "      <td>الاخ الاكبر</td>\n",
       "    </tr>\n",
       "    <tr>\n",
       "      <th>635</th>\n",
       "      <td>fare class</td>\n",
       "      <td>الطبقة أجرة</td>\n",
       "    </tr>\n",
       "    <tr>\n",
       "      <th>707</th>\n",
       "      <td>feet (ft)</td>\n",
       "      <td>قدم</td>\n",
       "    </tr>\n",
       "  </tbody>\n",
       "</table>\n",
       "</div>"
      ],
      "text/plain": [
       "                       en           ar\n",
       "Unnamed: 0                            \n",
       "350               coaster      السفينة\n",
       "458         dessert plate  لوحة الحلوى\n",
       "583         elder brother  الاخ الاكبر\n",
       "635            fare class  الطبقة أجرة\n",
       "707             feet (ft)          قدم"
      ]
     },
     "execution_count": 205,
     "metadata": {},
     "output_type": "execute_result"
    }
   ],
   "source": [
    "tr.head()"
   ]
  },
  {
   "cell_type": "code",
   "execution_count": 214,
   "metadata": {
    "collapsed": false
   },
   "outputs": [],
   "source": [
    "m = pd.merge(merge, tr, on='en', how='outer')"
   ]
  },
  {
   "cell_type": "code",
   "execution_count": 215,
   "metadata": {
    "collapsed": false
   },
   "outputs": [
    {
     "data": {
      "text/html": [
       "<div>\n",
       "<style scoped>\n",
       "    .dataframe tbody tr th:only-of-type {\n",
       "        vertical-align: middle;\n",
       "    }\n",
       "\n",
       "    .dataframe tbody tr th {\n",
       "        vertical-align: top;\n",
       "    }\n",
       "\n",
       "    .dataframe thead th {\n",
       "        text-align: right;\n",
       "    }\n",
       "</style>\n",
       "<table border=\"1\" class=\"dataframe\">\n",
       "  <thead>\n",
       "    <tr style=\"text-align: right;\">\n",
       "      <th></th>\n",
       "      <th>en</th>\n",
       "      <th>cn</th>\n",
       "      <th>ar_x</th>\n",
       "      <th>pos</th>\n",
       "      <th>ar_y</th>\n",
       "    </tr>\n",
       "  </thead>\n",
       "  <tbody>\n",
       "    <tr>\n",
       "      <th>0</th>\n",
       "      <td>* a.m.</td>\n",
       "      <td>下午*点</td>\n",
       "      <td>* صباحًا</td>\n",
       "      <td>prt</td>\n",
       "      <td>NaN</td>\n",
       "    </tr>\n",
       "    <tr>\n",
       "      <th>1</th>\n",
       "      <td>* airlines has a flight leaving at *.</td>\n",
       "      <td>*航空公司有一架班机，在*起飞。</td>\n",
       "      <td>* شركة الطيران لديها رحلة مغادرة في *</td>\n",
       "      <td>vp</td>\n",
       "      <td>NaN</td>\n",
       "    </tr>\n",
       "    <tr>\n",
       "      <th>2</th>\n",
       "      <td>* and * , please.</td>\n",
       "      <td>请给我*和*。</td>\n",
       "      <td>من فضلك أعطني * و *.</td>\n",
       "      <td>vp</td>\n",
       "      <td>NaN</td>\n",
       "    </tr>\n",
       "    <tr>\n",
       "      <th>3</th>\n",
       "      <td>* day(s)</td>\n",
       "      <td>*天</td>\n",
       "      <td>‏* أيام</td>\n",
       "      <td>prt</td>\n",
       "      <td>NaN</td>\n",
       "    </tr>\n",
       "    <tr>\n",
       "      <th>4</th>\n",
       "      <td>* dinar</td>\n",
       "      <td>第纳尔</td>\n",
       "      <td>دينار</td>\n",
       "      <td>prt</td>\n",
       "      <td>NaN</td>\n",
       "    </tr>\n",
       "  </tbody>\n",
       "</table>\n",
       "</div>"
      ],
      "text/plain": [
       "                                      en                cn  \\\n",
       "0                                 * a.m.              下午*点   \n",
       "1  * airlines has a flight leaving at *.  *航空公司有一架班机，在*起飞。   \n",
       "2                      * and * , please.           请给我*和*。   \n",
       "3                               * day(s)                *天   \n",
       "4                                * dinar               第纳尔   \n",
       "\n",
       "                                    ar_x  pos ar_y  \n",
       "0                               * صباحًا  prt  NaN  \n",
       "1  * شركة الطيران لديها رحلة مغادرة في *   vp  NaN  \n",
       "2                   من فضلك أعطني * و *.   vp  NaN  \n",
       "3                                ‏* أيام  prt  NaN  \n",
       "4                                  دينار  prt  NaN  "
      ]
     },
     "execution_count": 215,
     "metadata": {},
     "output_type": "execute_result"
    }
   ],
   "source": [
    "m.head()"
   ]
  },
  {
   "cell_type": "code",
   "execution_count": 216,
   "metadata": {
    "collapsed": false
   },
   "outputs": [],
   "source": [
    "m.ar_x = m.ar_x.fillna(m.ar_y)"
   ]
  },
  {
   "cell_type": "code",
   "execution_count": 217,
   "metadata": {
    "collapsed": false
   },
   "outputs": [
    {
     "data": {
      "text/html": [
       "<div>\n",
       "<style scoped>\n",
       "    .dataframe tbody tr th:only-of-type {\n",
       "        vertical-align: middle;\n",
       "    }\n",
       "\n",
       "    .dataframe tbody tr th {\n",
       "        vertical-align: top;\n",
       "    }\n",
       "\n",
       "    .dataframe thead th {\n",
       "        text-align: right;\n",
       "    }\n",
       "</style>\n",
       "<table border=\"1\" class=\"dataframe\">\n",
       "  <thead>\n",
       "    <tr style=\"text-align: right;\">\n",
       "      <th></th>\n",
       "      <th>en</th>\n",
       "      <th>cn</th>\n",
       "      <th>ar_x</th>\n",
       "      <th>pos</th>\n",
       "      <th>ar_y</th>\n",
       "    </tr>\n",
       "  </thead>\n",
       "  <tbody>\n",
       "    <tr>\n",
       "      <th>0</th>\n",
       "      <td>* a.m.</td>\n",
       "      <td>下午*点</td>\n",
       "      <td>* صباحًا</td>\n",
       "      <td>prt</td>\n",
       "      <td>NaN</td>\n",
       "    </tr>\n",
       "    <tr>\n",
       "      <th>1</th>\n",
       "      <td>* airlines has a flight leaving at *.</td>\n",
       "      <td>*航空公司有一架班机，在*起飞。</td>\n",
       "      <td>* شركة الطيران لديها رحلة مغادرة في *</td>\n",
       "      <td>vp</td>\n",
       "      <td>NaN</td>\n",
       "    </tr>\n",
       "    <tr>\n",
       "      <th>2</th>\n",
       "      <td>* and * , please.</td>\n",
       "      <td>请给我*和*。</td>\n",
       "      <td>من فضلك أعطني * و *.</td>\n",
       "      <td>vp</td>\n",
       "      <td>NaN</td>\n",
       "    </tr>\n",
       "    <tr>\n",
       "      <th>3</th>\n",
       "      <td>* day(s)</td>\n",
       "      <td>*天</td>\n",
       "      <td>‏* أيام</td>\n",
       "      <td>prt</td>\n",
       "      <td>NaN</td>\n",
       "    </tr>\n",
       "    <tr>\n",
       "      <th>4</th>\n",
       "      <td>* dinar</td>\n",
       "      <td>第纳尔</td>\n",
       "      <td>دينار</td>\n",
       "      <td>prt</td>\n",
       "      <td>NaN</td>\n",
       "    </tr>\n",
       "  </tbody>\n",
       "</table>\n",
       "</div>"
      ],
      "text/plain": [
       "                                      en                cn  \\\n",
       "0                                 * a.m.              下午*点   \n",
       "1  * airlines has a flight leaving at *.  *航空公司有一架班机，在*起飞。   \n",
       "2                      * and * , please.           请给我*和*。   \n",
       "3                               * day(s)                *天   \n",
       "4                                * dinar               第纳尔   \n",
       "\n",
       "                                    ar_x  pos ar_y  \n",
       "0                               * صباحًا  prt  NaN  \n",
       "1  * شركة الطيران لديها رحلة مغادرة في *   vp  NaN  \n",
       "2                   من فضلك أعطني * و *.   vp  NaN  \n",
       "3                                ‏* أيام  prt  NaN  \n",
       "4                                  دينار  prt  NaN  "
      ]
     },
     "execution_count": 217,
     "metadata": {},
     "output_type": "execute_result"
    }
   ],
   "source": [
    "m.head()"
   ]
  },
  {
   "cell_type": "code",
   "execution_count": 218,
   "metadata": {
    "collapsed": false
   },
   "outputs": [
    {
     "data": {
      "text/plain": [
       "19"
      ]
     },
     "execution_count": 218,
     "metadata": {},
     "output_type": "execute_result"
    }
   ],
   "source": [
    "len(m) - m.ar_x.count()"
   ]
  },
  {
   "cell_type": "code",
   "execution_count": 219,
   "metadata": {
    "collapsed": false
   },
   "outputs": [
    {
     "data": {
      "text/plain": [
       "(2840, 5)"
      ]
     },
     "execution_count": 219,
     "metadata": {},
     "output_type": "execute_result"
    }
   ],
   "source": [
    "m.shape"
   ]
  },
  {
   "cell_type": "code",
   "execution_count": 221,
   "metadata": {
    "collapsed": false
   },
   "outputs": [],
   "source": [
    "m.ar_x = m.ar_x.dropna()"
   ]
  },
  {
   "cell_type": "code",
   "execution_count": 225,
   "metadata": {
    "collapsed": true
   },
   "outputs": [],
   "source": [
    "m = m.rename(index=str, columns={\"ar_x\": \"ar\"})"
   ]
  },
  {
   "cell_type": "code",
   "execution_count": 228,
   "metadata": {
    "collapsed": false
   },
   "outputs": [],
   "source": [
    "m.drop(\"ar_y\",axis=1,inplace=True)"
   ]
  },
  {
   "cell_type": "code",
   "execution_count": 223,
   "metadata": {
    "collapsed": false
   },
   "outputs": [],
   "source": [
    "for i,row in m.iterrows():\n",
    "    if row.ar_x == \"DELETE\":\n",
    "        m.drop(i,inplace=True)"
   ]
  },
  {
   "cell_type": "code",
   "execution_count": 229,
   "metadata": {
    "collapsed": true
   },
   "outputs": [],
   "source": [
    "m.to_csv(\"allfilled0425.csv\")"
   ]
  },
  {
   "cell_type": "code",
   "execution_count": null,
   "metadata": {
    "collapsed": true
   },
   "outputs": [],
   "source": []
  }
 ],
 "metadata": {
  "anaconda-cloud": {},
  "kernelspec": {
   "display_name": "Python [py3]",
   "language": "python",
   "name": "Python [py3]"
  },
  "language_info": {
   "codemirror_mode": {
    "name": "ipython",
    "version": 3
   },
   "file_extension": ".py",
   "mimetype": "text/x-python",
   "name": "python",
   "nbconvert_exporter": "python",
   "pygments_lexer": "ipython3",
   "version": "3.6.5"
  }
 },
 "nbformat": 4,
 "nbformat_minor": 0
}
