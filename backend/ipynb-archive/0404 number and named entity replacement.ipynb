{
 "cells": [
  {
   "cell_type": "code",
   "execution_count": 8,
   "metadata": {
    "collapsed": false
   },
   "outputs": [],
   "source": [
    "import pandas as pd\n",
    "import nltk\n",
    "#import zhon\n",
    "import re\n",
    "import plac\n",
    "import spacy\n",
    "#nltk.download('maxent_ne_chunker')\n",
    "#nltk.download('words')"
   ]
  },
  {
   "cell_type": "code",
   "execution_count": null,
   "metadata": {
    "collapsed": true
   },
   "outputs": [],
   "source": [
    "df = pd.DataFrame(columns=[\"en\",\"cn\",\"pos\"])"
   ]
  },
  {
   "cell_type": "code",
   "execution_count": null,
   "metadata": {
    "collapsed": true
   },
   "outputs": [],
   "source": [
    "from zhon import hanzi"
   ]
  },
  {
   "cell_type": "code",
   "execution_count": null,
   "metadata": {
    "collapsed": true
   },
   "outputs": [],
   "source": [
    "count = 0\n",
    "df = pd.DataFrame(columns=[\"en\",\"cn\",\"pos\"])\n",
    "\n",
    "with open(\"./cn_en_phrases/cn_sentences.txt\") as f:\n",
    "\n",
    "    for line in f:\n",
    "        splitat = 0\n",
    "        num = \"\"\n",
    "        cn = \"\"\n",
    "        en = \"\"\n",
    "        vp = False\n",
    "\n",
    "        numarr = re.findall(r\"\\d[\\d,.:：]*\", line)\n",
    "                    \n",
    "        if numarr:\n",
    "            for num in numarr:\n",
    "                line = line.replace(str(num), \"*\")\n",
    "                vp = True\n",
    "        \n",
    "        for i in range(len(line)):\n",
    "            if re.findall('[{}]'.format(zhon.hanzi.characters), line[i]):\n",
    "                splitat = i\n",
    "                break\n",
    "                        \n",
    "        en = line[:splitat-1].strip()\n",
    "        cn = line[splitat-1:].strip()\n",
    "        \n",
    "        df.loc[count, 'en'] = en\n",
    "        df.loc[count, 'cn'] = cn\n",
    "        df.loc[count, 'pos'] = \"vp\" if vp else \"sent\"\n",
    "        count += 1\n"
   ]
  },
  {
   "cell_type": "code",
   "execution_count": null,
   "metadata": {
    "collapsed": false
   },
   "outputs": [],
   "source": [
    "df.shape"
   ]
  },
  {
   "cell_type": "code",
   "execution_count": null,
   "metadata": {
    "collapsed": true
   },
   "outputs": [],
   "source": [
    "with open(\"./cn_en_phrases/cn_words.txt\") as f:\n",
    "\n",
    "    for line in f:\n",
    "        splitat = 0\n",
    "        num = \"\"\n",
    "        cn = \"\"\n",
    "        en = \"\"\n",
    "        \"\"\"\n",
    "        numarr = re.findall(r\"\\d[\\d,.:：]*\", line)\n",
    "                    \n",
    "        if numarr:\n",
    "            for num in numarr:\n",
    "                line = line.replace(str(num), \"*\")\n",
    "        \n",
    "        \"\"\"\n",
    "        \n",
    "        for i in range(len(line)):\n",
    "            if re.findall('[{}]'.format(zhon.hanzi.characters), line[i]):\n",
    "                splitat = i\n",
    "                break\n",
    "                        \n",
    "        en = line[:splitat-1].strip().rstrip(\".\").lower()\n",
    "        cn = line[splitat-1:].strip().rstrip(\"。\")\n",
    "        \n",
    "        df.loc[count, 'en'] = en\n",
    "        df.loc[count, 'cn'] = cn\n",
    "        df.loc[count, 'pos'] = \"np\"\n",
    "        #print(en)\n",
    "        #print(cn)\n",
    "        count += 1\n"
   ]
  },
  {
   "cell_type": "code",
   "execution_count": null,
   "metadata": {
    "collapsed": false
   },
   "outputs": [],
   "source": [
    "df.head(50)"
   ]
  },
  {
   "cell_type": "code",
   "execution_count": null,
   "metadata": {
    "collapsed": false
   },
   "outputs": [],
   "source": [
    "df.shape"
   ]
  },
  {
   "cell_type": "code",
   "execution_count": null,
   "metadata": {
    "collapsed": true
   },
   "outputs": [],
   "source": [
    "df.to_csv(\"cn_en_added.csv\")"
   ]
  },
  {
   "cell_type": "markdown",
   "metadata": {},
   "source": [
    "---\n",
    "# Rerun"
   ]
  },
  {
   "cell_type": "code",
   "execution_count": null,
   "metadata": {
    "collapsed": true
   },
   "outputs": [],
   "source": [
    "df = pd.read_csv(\"cn_en_added.csv\")\n",
    "master = pd.read_csv(\"master0403.csv\")"
   ]
  },
  {
   "cell_type": "code",
   "execution_count": null,
   "metadata": {
    "collapsed": true
   },
   "outputs": [],
   "source": [
    "merge = pd.concat([df, master])"
   ]
  },
  {
   "cell_type": "code",
   "execution_count": null,
   "metadata": {
    "collapsed": false
   },
   "outputs": [],
   "source": [
    "merge = merge.drop(\"index\", axis=1)"
   ]
  },
  {
   "cell_type": "code",
   "execution_count": null,
   "metadata": {
    "collapsed": true
   },
   "outputs": [],
   "source": [
    "merge = merge.reset_index()"
   ]
  },
  {
   "cell_type": "code",
   "execution_count": null,
   "metadata": {
    "collapsed": false
   },
   "outputs": [],
   "source": [
    "merge.shape"
   ]
  },
  {
   "cell_type": "code",
   "execution_count": null,
   "metadata": {
    "collapsed": true
   },
   "outputs": [],
   "source": [
    "#merge.to_csv(\"merged2560.csv\")\n",
    "merge = pd.read_csv(\"merged2560.csv\")"
   ]
  },
  {
   "cell_type": "code",
   "execution_count": null,
   "metadata": {
    "collapsed": true
   },
   "outputs": [],
   "source": [
    "ne = df.copy()\n",
    "nlp = spacy.load('en')"
   ]
  },
  {
   "cell_type": "code",
   "execution_count": null,
   "metadata": {
    "collapsed": false
   },
   "outputs": [],
   "source": [
    "unique = []\n",
    "for i, row in ne.iterrows():\n",
    "    try:\n",
    "        doc = nlp(row.en)\n",
    "        if doc.ents:\n",
    "            #print('Name Entity: {0}'.format(doc.ents))\n",
    "            for ent in doc.ents:\n",
    "                print(\"phrase: \", row.en)\n",
    "                print(\"NE: \", ent.text)\n",
    "                my = str(input())\n",
    "                if my == \"*\":\n",
    "                    ne.loc[i,'en'] = ne.loc[i,'en'].replace(ent.text, \"*\")\n",
    "                elif my == \"\":\n",
    "                    continue\n",
    "                else:\n",
    "                    ne.loc[i,'en'] = ne.loc[i,'en'].replace(ent.text, my)\n",
    "                    \n",
    "                if ent.text not in unique:\n",
    "                    unique.append(ent.text)\n",
    "                    \n",
    "    except TypeError:\n",
    "        pass\n",
    "    "
   ]
  },
  {
   "cell_type": "code",
   "execution_count": null,
   "metadata": {
    "collapsed": false
   },
   "outputs": [],
   "source": [
    "ne\n"
   ]
  },
  {
   "cell_type": "markdown",
   "metadata": {},
   "source": [
    "## Database checklist\n",
    "\n",
    "* \\*BREAK* check\n",
    "* Chinese named entity removal\n",
    "* multiple definition check\n",
    "* POS tag check\n",
    "* 60 + dollars -> 60 dollars BUT dollars + 60 -> dollars w/o number\n",
    "\n",
    "---\n",
    "\n",
    "## Template options\n",
    "\n",
    "* pronoun\n",
    "* proper noun\n",
    "* location\n",
    "* time\n",
    "\n"
   ]
  },
  {
   "cell_type": "code",
   "execution_count": null,
   "metadata": {
    "collapsed": false
   },
   "outputs": [],
   "source": [
    "copy = ne.copy()\n",
    "copy.sort_values(by='en', inplace=True)\n",
    "copy.drop('Unnamed: 0', axis=1, inplace=True)\n",
    "copy.head()"
   ]
  },
  {
   "cell_type": "code",
   "execution_count": null,
   "metadata": {
    "collapsed": true
   },
   "outputs": [],
   "source": [
    "master = pd.read_csv(\"master0403.csv\")\n",
    "#master.drop('ar', axis=1, inplace=True)\n",
    "m1 = pd.concat([master, copy])"
   ]
  },
  {
   "cell_type": "code",
   "execution_count": null,
   "metadata": {
    "collapsed": true
   },
   "outputs": [],
   "source": [
    "#m1.drop(\"Unnamed: 0\", axis=1, inplace=True)\n",
    "m1.sort_values(by='en', inplace=True)\n",
    "m1 = m1[['en', 'cn', 'ar', 'pos']]\n",
    "m1.to_csv(\"m1.tsv\", sep=\"\\t\")    "
   ]
  },
  {
   "cell_type": "markdown",
   "metadata": {},
   "source": [
    "# Cleaned and merged 2500 phrases"
   ]
  },
  {
   "cell_type": "code",
   "execution_count": null,
   "metadata": {
    "collapsed": true
   },
   "outputs": [],
   "source": [
    "clean = pd.read_csv(\"clean2500-0410.csv\")"
   ]
  },
  {
   "cell_type": "code",
   "execution_count": null,
   "metadata": {
    "collapsed": false
   },
   "outputs": [],
   "source": [
    "clean.shape"
   ]
  },
  {
   "cell_type": "code",
   "execution_count": null,
   "metadata": {
    "collapsed": false
   },
   "outputs": [],
   "source": [
    "clean.head()"
   ]
  },
  {
   "cell_type": "code",
   "execution_count": null,
   "metadata": {
    "collapsed": false
   },
   "outputs": [],
   "source": [
    "clean.ar.fillna(\"\")"
   ]
  },
  {
   "cell_type": "code",
   "execution_count": null,
   "metadata": {
    "collapsed": false
   },
   "outputs": [],
   "source": [
    "clean[clean.duplicated(['en'], keep=\"first\")]"
   ]
  },
  {
   "cell_type": "code",
   "execution_count": null,
   "metadata": {
    "collapsed": true
   },
   "outputs": [],
   "source": [
    "clean.loc[1551,'en'] = \"to open\""
   ]
  },
  {
   "cell_type": "code",
   "execution_count": null,
   "metadata": {
    "collapsed": true
   },
   "outputs": [],
   "source": [
    "clean.drop(2472, inplace=True)"
   ]
  },
  {
   "cell_type": "code",
   "execution_count": null,
   "metadata": {
    "collapsed": false
   },
   "outputs": [],
   "source": [
    "for i, word in clean.iterrows():\n",
    "    #if not str(i)[0].isalpha():\n",
    "    if word.cn == \".你可以走了，带好你的东西。\":\n",
    "        print(i)"
   ]
  },
  {
   "cell_type": "code",
   "execution_count": null,
   "metadata": {
    "collapsed": false
   },
   "outputs": [],
   "source": [
    "clean.iloc[2441]"
   ]
  },
  {
   "cell_type": "code",
   "execution_count": null,
   "metadata": {
    "collapsed": true
   },
   "outputs": [],
   "source": [
    "clean.loc[2441,'cn']=\"你可以走了，带好你的东西。\"\n",
    "clean.loc[2441,'en']=\"You may go now. Please take your things.\""
   ]
  },
  {
   "cell_type": "code",
   "execution_count": null,
   "metadata": {
    "collapsed": true
   },
   "outputs": [],
   "source": [
    "clean = clean.reset_index()\n",
    "clean.drop('index', axis=1,inplace=True)"
   ]
  },
  {
   "cell_type": "code",
   "execution_count": null,
   "metadata": {
    "collapsed": false
   },
   "outputs": [],
   "source": [
    "clean.drop('level_0', axis=1,inplace=True)\n",
    "clean.head()"
   ]
  },
  {
   "cell_type": "code",
   "execution_count": null,
   "metadata": {
    "collapsed": true
   },
   "outputs": [],
   "source": [
    "clean.sort_values('en')\n",
    "clean.drop(2471, inplace=True)"
   ]
  },
  {
   "cell_type": "code",
   "execution_count": null,
   "metadata": {
    "collapsed": true
   },
   "outputs": [],
   "source": [
    "clean.to_csv(\"cleaned0410.csv\")"
   ]
  },
  {
   "cell_type": "code",
   "execution_count": null,
   "metadata": {
    "collapsed": true
   },
   "outputs": [],
   "source": [
    "clean.drop([26], inplace=True)"
   ]
  },
  {
   "cell_type": "code",
   "execution_count": null,
   "metadata": {
    "collapsed": false
   },
   "outputs": [],
   "source": [
    "for i,row in clean.iterrows():\n",
    "    if row.pos == \"adv\":\n",
    "        print(row)"
   ]
  },
  {
   "cell_type": "code",
   "execution_count": null,
   "metadata": {
    "collapsed": true
   },
   "outputs": [],
   "source": [
    "clean.loc[2065, \"en\"] = \"To *.\"\n",
    "clean.loc[2065, \"cn\"] = \"去*。\"\n",
    "clean.loc[2065, \"ar\"] = \"إلى *.\"\n",
    "clean.loc[2065, \"pos\"] = \"vp\""
   ]
  },
  {
   "cell_type": "code",
   "execution_count": null,
   "metadata": {
    "collapsed": false
   },
   "outputs": [],
   "source": [
    "clean.loc[2065]"
   ]
  },
  {
   "cell_type": "code",
   "execution_count": null,
   "metadata": {
    "collapsed": true
   },
   "outputs": [],
   "source": [
    "clean.to_csv(\"cleaned0410.csv\")"
   ]
  },
  {
   "cell_type": "markdown",
   "metadata": {},
   "source": [
    "## Note: only vp and prt can contain *"
   ]
  },
  {
   "cell_type": "code",
   "execution_count": null,
   "metadata": {
    "collapsed": false
   },
   "outputs": [],
   "source": [
    "clean.head()"
   ]
  },
  {
   "cell_type": "markdown",
   "metadata": {},
   "source": [
    "# Chinese segments"
   ]
  },
  {
   "cell_type": "code",
   "execution_count": null,
   "metadata": {
    "collapsed": true
   },
   "outputs": [],
   "source": [
    "df = pd.read_csv(\"cleaned0410.csv\")"
   ]
  },
  {
   "cell_type": "code",
   "execution_count": null,
   "metadata": {
    "collapsed": true
   },
   "outputs": [],
   "source": [
    "import jieba"
   ]
  },
  {
   "cell_type": "code",
   "execution_count": null,
   "metadata": {
    "collapsed": true
   },
   "outputs": [],
   "source": [
    "for i, row in df.iterrows():\n",
    "    df.loc[i, 'cn_split'] = \" \".join(jieba.cut(str(row.cn)))"
   ]
  },
  {
   "cell_type": "code",
   "execution_count": null,
   "metadata": {
    "collapsed": true
   },
   "outputs": [],
   "source": [
    "df.head()\n",
    "df.to_csv(\"cn_segmented.csv\")"
   ]
  },
  {
   "cell_type": "code",
   "execution_count": null,
   "metadata": {
    "collapsed": false
   },
   "outputs": [],
   "source": [
    "df.head()"
   ]
  },
  {
   "cell_type": "code",
   "execution_count": 9,
   "metadata": {
    "collapsed": false
   },
   "outputs": [],
   "source": [
    "df = pd.read_csv(\"cleaned0410.csv\")"
   ]
  },
  {
   "cell_type": "code",
   "execution_count": 10,
   "metadata": {
    "collapsed": true
   },
   "outputs": [],
   "source": [
    "df2 = pd.read_csv(\"addwords0417.csv\")"
   ]
  },
  {
   "cell_type": "code",
   "execution_count": 13,
   "metadata": {
    "collapsed": false
   },
   "outputs": [],
   "source": [
    "df.drop(\"Unnamed: 0\", axis=1, inplace=True)"
   ]
  },
  {
   "cell_type": "code",
   "execution_count": 14,
   "metadata": {
    "collapsed": false
   },
   "outputs": [
    {
     "data": {
      "text/html": [
       "<div>\n",
       "<style scoped>\n",
       "    .dataframe tbody tr th:only-of-type {\n",
       "        vertical-align: middle;\n",
       "    }\n",
       "\n",
       "    .dataframe tbody tr th {\n",
       "        vertical-align: top;\n",
       "    }\n",
       "\n",
       "    .dataframe thead th {\n",
       "        text-align: right;\n",
       "    }\n",
       "</style>\n",
       "<table border=\"1\" class=\"dataframe\">\n",
       "  <thead>\n",
       "    <tr style=\"text-align: right;\">\n",
       "      <th></th>\n",
       "      <th>en</th>\n",
       "      <th>cn</th>\n",
       "      <th>ar</th>\n",
       "      <th>pos</th>\n",
       "    </tr>\n",
       "  </thead>\n",
       "  <tbody>\n",
       "    <tr>\n",
       "      <th>0</th>\n",
       "      <td>* a.m.</td>\n",
       "      <td>下午*点</td>\n",
       "      <td>* صباحًا</td>\n",
       "      <td>prt</td>\n",
       "    </tr>\n",
       "    <tr>\n",
       "      <th>1</th>\n",
       "      <td>* airlines has a flight leaving at *.</td>\n",
       "      <td>*航空公司有一架班机，在*起飞。</td>\n",
       "      <td>NaN</td>\n",
       "      <td>vp</td>\n",
       "    </tr>\n",
       "    <tr>\n",
       "      <th>2</th>\n",
       "      <td>* and * , please.</td>\n",
       "      <td>请给我*和*。</td>\n",
       "      <td>من فضلك أعطني * و *.</td>\n",
       "      <td>vp</td>\n",
       "    </tr>\n",
       "    <tr>\n",
       "      <th>3</th>\n",
       "      <td>* day(s)</td>\n",
       "      <td>*天</td>\n",
       "      <td>‏* أيام</td>\n",
       "      <td>prt</td>\n",
       "    </tr>\n",
       "    <tr>\n",
       "      <th>4</th>\n",
       "      <td>* dinar</td>\n",
       "      <td>第纳尔</td>\n",
       "      <td>دينار</td>\n",
       "      <td>prt</td>\n",
       "    </tr>\n",
       "  </tbody>\n",
       "</table>\n",
       "</div>"
      ],
      "text/plain": [
       "                                      en                cn  \\\n",
       "0                                 * a.m.              下午*点   \n",
       "1  * airlines has a flight leaving at *.  *航空公司有一架班机，在*起飞。   \n",
       "2                      * and * , please.           请给我*和*。   \n",
       "3                               * day(s)                *天   \n",
       "4                                * dinar               第纳尔   \n",
       "\n",
       "                     ar  pos  \n",
       "0              * صباحًا  prt  \n",
       "1                   NaN   vp  \n",
       "2  من فضلك أعطني * و *.   vp  \n",
       "3               ‏* أيام  prt  \n",
       "4                 دينار  prt  "
      ]
     },
     "execution_count": 14,
     "metadata": {},
     "output_type": "execute_result"
    }
   ],
   "source": [
    "df.head()"
   ]
  },
  {
   "cell_type": "code",
   "execution_count": 12,
   "metadata": {
    "collapsed": false
   },
   "outputs": [
    {
     "data": {
      "text/html": [
       "<div>\n",
       "<style scoped>\n",
       "    .dataframe tbody tr th:only-of-type {\n",
       "        vertical-align: middle;\n",
       "    }\n",
       "\n",
       "    .dataframe tbody tr th {\n",
       "        vertical-align: top;\n",
       "    }\n",
       "\n",
       "    .dataframe thead th {\n",
       "        text-align: right;\n",
       "    }\n",
       "</style>\n",
       "<table border=\"1\" class=\"dataframe\">\n",
       "  <thead>\n",
       "    <tr style=\"text-align: right;\">\n",
       "      <th></th>\n",
       "      <th>en</th>\n",
       "      <th>cn</th>\n",
       "      <th>ar</th>\n",
       "      <th>pos</th>\n",
       "    </tr>\n",
       "  </thead>\n",
       "  <tbody>\n",
       "    <tr>\n",
       "      <th>0</th>\n",
       "      <td>* and *</td>\n",
       "      <td>*和*</td>\n",
       "      <td>* و *</td>\n",
       "      <td>conj</td>\n",
       "    </tr>\n",
       "    <tr>\n",
       "      <th>1</th>\n",
       "      <td>Afghan</td>\n",
       "      <td>阿富汗</td>\n",
       "      <td>الأفغاني</td>\n",
       "      <td>adj</td>\n",
       "    </tr>\n",
       "    <tr>\n",
       "      <th>2</th>\n",
       "      <td>after all *</td>\n",
       "      <td>毕竟 *</td>\n",
       "      <td>بعد كل ذلك *</td>\n",
       "      <td>conj</td>\n",
       "    </tr>\n",
       "    <tr>\n",
       "      <th>3</th>\n",
       "      <td>although *</td>\n",
       "      <td>尽管*</td>\n",
       "      <td>برغم من *</td>\n",
       "      <td>conj</td>\n",
       "    </tr>\n",
       "    <tr>\n",
       "      <th>4</th>\n",
       "      <td>American</td>\n",
       "      <td>美国</td>\n",
       "      <td>أمريكي</td>\n",
       "      <td>adj</td>\n",
       "    </tr>\n",
       "  </tbody>\n",
       "</table>\n",
       "</div>"
      ],
      "text/plain": [
       "            en    cn            ar   pos\n",
       "0      * and *   *和*         * و *  conj\n",
       "1       Afghan   阿富汗      الأفغاني   adj\n",
       "2  after all *  毕竟 *  بعد كل ذلك *  conj\n",
       "3   although *   尽管*     برغم من *  conj\n",
       "4     American    美国        أمريكي   adj"
      ]
     },
     "execution_count": 12,
     "metadata": {},
     "output_type": "execute_result"
    }
   ],
   "source": [
    "df2.head()"
   ]
  },
  {
   "cell_type": "code",
   "execution_count": 15,
   "metadata": {
    "collapsed": true
   },
   "outputs": [],
   "source": [
    "df = pd.concat([df, df2])"
   ]
  },
  {
   "cell_type": "code",
   "execution_count": 16,
   "metadata": {
    "collapsed": false
   },
   "outputs": [
    {
     "data": {
      "text/plain": [
       "(2595, 4)"
      ]
     },
     "execution_count": 16,
     "metadata": {},
     "output_type": "execute_result"
    }
   ],
   "source": [
    "df.shape"
   ]
  },
  {
   "cell_type": "code",
   "execution_count": 17,
   "metadata": {
    "collapsed": false
   },
   "outputs": [
    {
     "data": {
      "text/html": [
       "<div>\n",
       "<style scoped>\n",
       "    .dataframe tbody tr th:only-of-type {\n",
       "        vertical-align: middle;\n",
       "    }\n",
       "\n",
       "    .dataframe tbody tr th {\n",
       "        vertical-align: top;\n",
       "    }\n",
       "\n",
       "    .dataframe thead th {\n",
       "        text-align: right;\n",
       "    }\n",
       "</style>\n",
       "<table border=\"1\" class=\"dataframe\">\n",
       "  <thead>\n",
       "    <tr style=\"text-align: right;\">\n",
       "      <th></th>\n",
       "      <th>en</th>\n",
       "      <th>cn</th>\n",
       "      <th>ar</th>\n",
       "      <th>pos</th>\n",
       "    </tr>\n",
       "  </thead>\n",
       "  <tbody>\n",
       "    <tr>\n",
       "      <th>115</th>\n",
       "      <td>until *</td>\n",
       "      <td>直到 *</td>\n",
       "      <td>حتى *</td>\n",
       "      <td>conj</td>\n",
       "    </tr>\n",
       "    <tr>\n",
       "      <th>116</th>\n",
       "      <td>Uruguayan</td>\n",
       "      <td>乌拉圭人</td>\n",
       "      <td>أوروجواي</td>\n",
       "      <td>adj</td>\n",
       "    </tr>\n",
       "    <tr>\n",
       "      <th>117</th>\n",
       "      <td>US</td>\n",
       "      <td>我们</td>\n",
       "      <td>لنا</td>\n",
       "      <td>adj</td>\n",
       "    </tr>\n",
       "    <tr>\n",
       "      <th>118</th>\n",
       "      <td>Venezuelan</td>\n",
       "      <td>委内瑞拉的</td>\n",
       "      <td>فنزويلا</td>\n",
       "      <td>adj</td>\n",
       "    </tr>\n",
       "    <tr>\n",
       "      <th>119</th>\n",
       "      <td>Vietnamese</td>\n",
       "      <td>越南的</td>\n",
       "      <td>الفيتنامية</td>\n",
       "      <td>adj</td>\n",
       "    </tr>\n",
       "    <tr>\n",
       "      <th>120</th>\n",
       "      <td>Welsh</td>\n",
       "      <td>威尔士语</td>\n",
       "      <td>تهرب من دفع الرهان</td>\n",
       "      <td>adj</td>\n",
       "    </tr>\n",
       "    <tr>\n",
       "      <th>121</th>\n",
       "      <td>wherever</td>\n",
       "      <td>哪里</td>\n",
       "      <td>أينما</td>\n",
       "      <td>conj</td>\n",
       "    </tr>\n",
       "    <tr>\n",
       "      <th>122</th>\n",
       "      <td>whether *</td>\n",
       "      <td>是否*</td>\n",
       "      <td>سواء *</td>\n",
       "      <td>conj</td>\n",
       "    </tr>\n",
       "    <tr>\n",
       "      <th>123</th>\n",
       "      <td>while *</td>\n",
       "      <td>而*</td>\n",
       "      <td>في حين *</td>\n",
       "      <td>conj</td>\n",
       "    </tr>\n",
       "    <tr>\n",
       "      <th>124</th>\n",
       "      <td>yet *</td>\n",
       "      <td>然而*</td>\n",
       "      <td>بعد *</td>\n",
       "      <td>conj</td>\n",
       "    </tr>\n",
       "  </tbody>\n",
       "</table>\n",
       "</div>"
      ],
      "text/plain": [
       "             en     cn                  ar   pos\n",
       "115     until *   直到 *               حتى *  conj\n",
       "116   Uruguayan   乌拉圭人            أوروجواي   adj\n",
       "117          US     我们                 لنا   adj\n",
       "118  Venezuelan  委内瑞拉的             فنزويلا   adj\n",
       "119  Vietnamese    越南的          الفيتنامية   adj\n",
       "120       Welsh   威尔士语  تهرب من دفع الرهان   adj\n",
       "121    wherever     哪里               أينما  conj\n",
       "122   whether *    是否*              سواء *  conj\n",
       "123     while *     而*            في حين *  conj\n",
       "124       yet *    然而*               بعد *  conj"
      ]
     },
     "execution_count": 17,
     "metadata": {},
     "output_type": "execute_result"
    }
   ],
   "source": [
    "df.tail(10)"
   ]
  },
  {
   "cell_type": "code",
   "execution_count": 22,
   "metadata": {
    "collapsed": false
   },
   "outputs": [
    {
     "data": {
      "text/html": [
       "<div>\n",
       "<style scoped>\n",
       "    .dataframe tbody tr th:only-of-type {\n",
       "        vertical-align: middle;\n",
       "    }\n",
       "\n",
       "    .dataframe tbody tr th {\n",
       "        vertical-align: top;\n",
       "    }\n",
       "\n",
       "    .dataframe thead th {\n",
       "        text-align: right;\n",
       "    }\n",
       "</style>\n",
       "<table border=\"1\" class=\"dataframe\">\n",
       "  <thead>\n",
       "    <tr style=\"text-align: right;\">\n",
       "      <th></th>\n",
       "      <th>en</th>\n",
       "      <th>cn</th>\n",
       "      <th>ar</th>\n",
       "      <th>pos</th>\n",
       "    </tr>\n",
       "  </thead>\n",
       "  <tbody>\n",
       "    <tr>\n",
       "      <th>1125</th>\n",
       "      <td>information</td>\n",
       "      <td>问讯处</td>\n",
       "      <td>NaN</td>\n",
       "      <td>np</td>\n",
       "    </tr>\n",
       "    <tr>\n",
       "      <th>1504</th>\n",
       "      <td>nothing to declare</td>\n",
       "      <td>无申报通道</td>\n",
       "      <td>NaN</td>\n",
       "      <td>np</td>\n",
       "    </tr>\n",
       "  </tbody>\n",
       "</table>\n",
       "</div>"
      ],
      "text/plain": [
       "                      en     cn   ar pos\n",
       "1125         information    问讯处  NaN  np\n",
       "1504  nothing to declare  无申报通道  NaN  np"
      ]
     },
     "execution_count": 22,
     "metadata": {},
     "output_type": "execute_result"
    }
   ],
   "source": [
    "df[df.en.str.lower().duplicated(keep='first')]"
   ]
  },
  {
   "cell_type": "code",
   "execution_count": 32,
   "metadata": {
    "collapsed": false
   },
   "outputs": [],
   "source": [
    "lower = df.apply(lambda x: x.astype(str).str.strip(\".,\")).apply(lambda x: x.astype(str).str.lower())"
   ]
  },
  {
   "cell_type": "code",
   "execution_count": 35,
   "metadata": {
    "collapsed": false
   },
   "outputs": [],
   "source": [
    "dup = lower[lower.en.duplicated(keep='first')]"
   ]
  },
  {
   "cell_type": "code",
   "execution_count": 36,
   "metadata": {
    "collapsed": false
   },
   "outputs": [
    {
     "data": {
      "text/plain": [
       "Int64Index([  13,   18,   65,  112,  197,  239,  319,  435,  437,  462,  467,\n",
       "             552,  555,  598, 1125, 1137, 1265, 1302, 1477, 1504, 1545, 1704,\n",
       "            1782, 1871, 1876, 1893, 2152, 2162, 2164, 2166, 2216],\n",
       "           dtype='int64')"
      ]
     },
     "execution_count": 36,
     "metadata": {},
     "output_type": "execute_result"
    }
   ],
   "source": [
    "dup.index"
   ]
  },
  {
   "cell_type": "code",
   "execution_count": 37,
   "metadata": {
    "collapsed": true
   },
   "outputs": [],
   "source": [
    "for i in dup.index:\n",
    "    df.drop(i, inplace=True)"
   ]
  },
  {
   "cell_type": "code",
   "execution_count": 38,
   "metadata": {
    "collapsed": false
   },
   "outputs": [
    {
     "data": {
      "text/plain": [
       "(2560, 4)"
      ]
     },
     "execution_count": 38,
     "metadata": {},
     "output_type": "execute_result"
    }
   ],
   "source": [
    "df.shape"
   ]
  },
  {
   "cell_type": "code",
   "execution_count": 42,
   "metadata": {
    "collapsed": false
   },
   "outputs": [
    {
     "data": {
      "text/html": [
       "<div>\n",
       "<style scoped>\n",
       "    .dataframe tbody tr th:only-of-type {\n",
       "        vertical-align: middle;\n",
       "    }\n",
       "\n",
       "    .dataframe tbody tr th {\n",
       "        vertical-align: top;\n",
       "    }\n",
       "\n",
       "    .dataframe thead th {\n",
       "        text-align: right;\n",
       "    }\n",
       "</style>\n",
       "<table border=\"1\" class=\"dataframe\">\n",
       "  <thead>\n",
       "    <tr style=\"text-align: right;\">\n",
       "      <th></th>\n",
       "      <th>en</th>\n",
       "      <th>cn</th>\n",
       "      <th>ar</th>\n",
       "      <th>pos</th>\n",
       "    </tr>\n",
       "  </thead>\n",
       "  <tbody>\n",
       "    <tr>\n",
       "      <th>0</th>\n",
       "      <td>* a.m.</td>\n",
       "      <td>下午*点</td>\n",
       "      <td>* صباحًا</td>\n",
       "      <td>prt</td>\n",
       "    </tr>\n",
       "    <tr>\n",
       "      <th>1</th>\n",
       "      <td>* airlines has a flight leaving at *.</td>\n",
       "      <td>*航空公司有一架班机，在*起飞。</td>\n",
       "      <td>NaN</td>\n",
       "      <td>vp</td>\n",
       "    </tr>\n",
       "    <tr>\n",
       "      <th>2</th>\n",
       "      <td>* and * , please.</td>\n",
       "      <td>请给我*和*。</td>\n",
       "      <td>من فضلك أعطني * و *.</td>\n",
       "      <td>vp</td>\n",
       "    </tr>\n",
       "    <tr>\n",
       "      <th>3</th>\n",
       "      <td>* day(s)</td>\n",
       "      <td>*天</td>\n",
       "      <td>‏* أيام</td>\n",
       "      <td>prt</td>\n",
       "    </tr>\n",
       "    <tr>\n",
       "      <th>4</th>\n",
       "      <td>* dinar</td>\n",
       "      <td>第纳尔</td>\n",
       "      <td>دينار</td>\n",
       "      <td>prt</td>\n",
       "    </tr>\n",
       "    <tr>\n",
       "      <th>5</th>\n",
       "      <td>* dirham</td>\n",
       "      <td>迪拉姆</td>\n",
       "      <td>درهم</td>\n",
       "      <td>prt</td>\n",
       "    </tr>\n",
       "    <tr>\n",
       "      <th>6</th>\n",
       "      <td>* dollar(s)</td>\n",
       "      <td>美元</td>\n",
       "      <td>دولار</td>\n",
       "      <td>prt</td>\n",
       "    </tr>\n",
       "    <tr>\n",
       "      <th>7</th>\n",
       "      <td>* hour(s)</td>\n",
       "      <td>*个小时</td>\n",
       "      <td>‏* ساعات</td>\n",
       "      <td>prt</td>\n",
       "    </tr>\n",
       "    <tr>\n",
       "      <th>8</th>\n",
       "      <td>* is not working.</td>\n",
       "      <td>坏了</td>\n",
       "      <td>* لا يعمل</td>\n",
       "      <td>vp</td>\n",
       "    </tr>\n",
       "    <tr>\n",
       "      <th>9</th>\n",
       "      <td>* minute(s)</td>\n",
       "      <td>*分钟</td>\n",
       "      <td>‏* دقائق</td>\n",
       "      <td>prt</td>\n",
       "    </tr>\n",
       "    <tr>\n",
       "      <th>10</th>\n",
       "      <td>* month(s)</td>\n",
       "      <td>*个月</td>\n",
       "      <td>*  أشهر</td>\n",
       "      <td>prt</td>\n",
       "    </tr>\n",
       "    <tr>\n",
       "      <th>11</th>\n",
       "      <td>* p.m.</td>\n",
       "      <td>上午*点</td>\n",
       "      <td>* مساءً</td>\n",
       "      <td>prt</td>\n",
       "    </tr>\n",
       "    <tr>\n",
       "      <th>12</th>\n",
       "      <td>* people</td>\n",
       "      <td>*个人</td>\n",
       "      <td>* أشخاص</td>\n",
       "      <td>prt</td>\n",
       "    </tr>\n",
       "    <tr>\n",
       "      <th>14</th>\n",
       "      <td>* pound(s)</td>\n",
       "      <td>磅</td>\n",
       "      <td>جنيه</td>\n",
       "      <td>prt</td>\n",
       "    </tr>\n",
       "    <tr>\n",
       "      <th>15</th>\n",
       "      <td>* week(s)</td>\n",
       "      <td>*个星期</td>\n",
       "      <td>‏* أسبوع</td>\n",
       "      <td>prt</td>\n",
       "    </tr>\n",
       "    <tr>\n",
       "      <th>16</th>\n",
       "      <td>* year(s)</td>\n",
       "      <td>*年</td>\n",
       "      <td>‏* سنوات</td>\n",
       "      <td>prt</td>\n",
       "    </tr>\n",
       "    <tr>\n",
       "      <th>17</th>\n",
       "      <td>* yuan</td>\n",
       "      <td>*元</td>\n",
       "      <td>* يوان</td>\n",
       "      <td>prt</td>\n",
       "    </tr>\n",
       "    <tr>\n",
       "      <th>19</th>\n",
       "      <td>a bottle</td>\n",
       "      <td>一瓶</td>\n",
       "      <td>قارورة</td>\n",
       "      <td>np</td>\n",
       "    </tr>\n",
       "    <tr>\n",
       "      <th>20</th>\n",
       "      <td>A cleaning fee will be charged if you smoke in...</td>\n",
       "      <td>NaN</td>\n",
       "      <td>NaN</td>\n",
       "      <td>vp</td>\n",
       "    </tr>\n",
       "    <tr>\n",
       "      <th>21</th>\n",
       "      <td>A cocktail if possible.</td>\n",
       "      <td>如果可能的话来点鸡尾酒吧。</td>\n",
       "      <td>NaN</td>\n",
       "      <td>sent</td>\n",
       "    </tr>\n",
       "    <tr>\n",
       "      <th>22</th>\n",
       "      <td>A cup of coffee for me.</td>\n",
       "      <td>我要一杯咖啡。</td>\n",
       "      <td>NaN</td>\n",
       "      <td>sent</td>\n",
       "    </tr>\n",
       "    <tr>\n",
       "      <th>23</th>\n",
       "      <td>a glass of wine</td>\n",
       "      <td>一杯酒</td>\n",
       "      <td>كأس من النبيذ</td>\n",
       "      <td>np</td>\n",
       "    </tr>\n",
       "    <tr>\n",
       "      <th>24</th>\n",
       "      <td>a pint</td>\n",
       "      <td>一品脱</td>\n",
       "      <td>نصف لتر</td>\n",
       "      <td>np</td>\n",
       "    </tr>\n",
       "    <tr>\n",
       "      <th>25</th>\n",
       "      <td>A small cup of strong black coffee without mil...</td>\n",
       "      <td>小杯浓的黑咖啡，不加牛奶和奶油。</td>\n",
       "      <td>NaN</td>\n",
       "      <td>sent</td>\n",
       "    </tr>\n",
       "    <tr>\n",
       "      <th>26</th>\n",
       "      <td>A table for *, please.</td>\n",
       "      <td>*位。</td>\n",
       "      <td>NaN</td>\n",
       "      <td>vp</td>\n",
       "    </tr>\n",
       "    <tr>\n",
       "      <th>27</th>\n",
       "      <td>A waiter will come to take your order.</td>\n",
       "      <td>服务员会过来为您点餐。</td>\n",
       "      <td>NaN</td>\n",
       "      <td>sent</td>\n",
       "    </tr>\n",
       "    <tr>\n",
       "      <th>28</th>\n",
       "      <td>abdomen</td>\n",
       "      <td>腹部</td>\n",
       "      <td>بطن</td>\n",
       "      <td>np</td>\n",
       "    </tr>\n",
       "    <tr>\n",
       "      <th>29</th>\n",
       "      <td>able</td>\n",
       "      <td>能干的</td>\n",
       "      <td>NaN</td>\n",
       "      <td>np</td>\n",
       "    </tr>\n",
       "    <tr>\n",
       "      <th>30</th>\n",
       "      <td>Abu Dhabi</td>\n",
       "      <td>阿布扎比</td>\n",
       "      <td>أبو ظبي</td>\n",
       "      <td>np</td>\n",
       "    </tr>\n",
       "    <tr>\n",
       "      <th>31</th>\n",
       "      <td>Abuja</td>\n",
       "      <td>阿布贾</td>\n",
       "      <td>أبوجا</td>\n",
       "      <td>np</td>\n",
       "    </tr>\n",
       "    <tr>\n",
       "      <th>32</th>\n",
       "      <td>academic year</td>\n",
       "      <td>学年</td>\n",
       "      <td>NaN</td>\n",
       "      <td>np</td>\n",
       "    </tr>\n",
       "    <tr>\n",
       "      <th>33</th>\n",
       "      <td>Accessible Guestroom.</td>\n",
       "      <td>残疾人客房。</td>\n",
       "      <td>NaN</td>\n",
       "      <td>sent</td>\n",
       "    </tr>\n",
       "    <tr>\n",
       "      <th>34</th>\n",
       "      <td>accompanying number</td>\n",
       "      <td>偕行人数</td>\n",
       "      <td>NaN</td>\n",
       "      <td>np</td>\n",
       "    </tr>\n",
       "    <tr>\n",
       "      <th>35</th>\n",
       "      <td>Accra</td>\n",
       "      <td>阿克拉</td>\n",
       "      <td>أكرا</td>\n",
       "      <td>np</td>\n",
       "    </tr>\n",
       "    <tr>\n",
       "      <th>36</th>\n",
       "      <td>achievements</td>\n",
       "      <td>业绩</td>\n",
       "      <td>NaN</td>\n",
       "      <td>np</td>\n",
       "    </tr>\n",
       "    <tr>\n",
       "      <th>37</th>\n",
       "      <td>active</td>\n",
       "      <td>主动的</td>\n",
       "      <td>NaN</td>\n",
       "      <td>np</td>\n",
       "    </tr>\n",
       "    <tr>\n",
       "      <th>38</th>\n",
       "      <td>adaptable</td>\n",
       "      <td>适应性强的</td>\n",
       "      <td>NaN</td>\n",
       "      <td>np</td>\n",
       "    </tr>\n",
       "    <tr>\n",
       "      <th>39</th>\n",
       "      <td>adapted to</td>\n",
       "      <td>适应于</td>\n",
       "      <td>NaN</td>\n",
       "      <td>np</td>\n",
       "    </tr>\n",
       "    <tr>\n",
       "      <th>40</th>\n",
       "      <td>address</td>\n",
       "      <td>地址</td>\n",
       "      <td>NaN</td>\n",
       "      <td>np</td>\n",
       "    </tr>\n",
       "    <tr>\n",
       "      <th>41</th>\n",
       "      <td>address while in</td>\n",
       "      <td>前往国家的住址</td>\n",
       "      <td>NaN</td>\n",
       "      <td>np</td>\n",
       "    </tr>\n",
       "    <tr>\n",
       "      <th>42</th>\n",
       "      <td>Adelaide</td>\n",
       "      <td>阿德莱德</td>\n",
       "      <td>أديليد</td>\n",
       "      <td>np</td>\n",
       "    </tr>\n",
       "    <tr>\n",
       "      <th>43</th>\n",
       "      <td>adopted daughter</td>\n",
       "      <td>养女</td>\n",
       "      <td>NaN</td>\n",
       "      <td>np</td>\n",
       "    </tr>\n",
       "    <tr>\n",
       "      <th>44</th>\n",
       "      <td>adopted son</td>\n",
       "      <td>养子</td>\n",
       "      <td>NaN</td>\n",
       "      <td>np</td>\n",
       "    </tr>\n",
       "    <tr>\n",
       "      <th>45</th>\n",
       "      <td>Advance Reservations. Can I help you?</td>\n",
       "      <td>这儿预订房间，需要效劳吗?</td>\n",
       "      <td>NaN</td>\n",
       "      <td>sent</td>\n",
       "    </tr>\n",
       "    <tr>\n",
       "      <th>46</th>\n",
       "      <td>Afghanistan</td>\n",
       "      <td>阿富汗</td>\n",
       "      <td>أفغانستان</td>\n",
       "      <td>np</td>\n",
       "    </tr>\n",
       "    <tr>\n",
       "      <th>47</th>\n",
       "      <td>after</td>\n",
       "      <td>之后</td>\n",
       "      <td>بعد</td>\n",
       "      <td>adv</td>\n",
       "    </tr>\n",
       "    <tr>\n",
       "      <th>48</th>\n",
       "      <td>After landing on the airport, you can turn on ...</td>\n",
       "      <td>飞机降落在机场后，你就能打开手机了。</td>\n",
       "      <td>NaN</td>\n",
       "      <td>sent</td>\n",
       "    </tr>\n",
       "    <tr>\n",
       "      <th>49</th>\n",
       "      <td>afternoon</td>\n",
       "      <td>下午</td>\n",
       "      <td>بعد الظهر</td>\n",
       "      <td>np</td>\n",
       "    </tr>\n",
       "    <tr>\n",
       "      <th>50</th>\n",
       "      <td>age</td>\n",
       "      <td>年龄</td>\n",
       "      <td>NaN</td>\n",
       "      <td>np</td>\n",
       "    </tr>\n",
       "    <tr>\n",
       "      <th>51</th>\n",
       "      <td>aggressive</td>\n",
       "      <td>有进取心的</td>\n",
       "      <td>NaN</td>\n",
       "      <td>np</td>\n",
       "    </tr>\n",
       "  </tbody>\n",
       "</table>\n",
       "</div>"
      ],
      "text/plain": [
       "                                                   en                  cn  \\\n",
       "0                                              * a.m.                下午*点   \n",
       "1               * airlines has a flight leaving at *.    *航空公司有一架班机，在*起飞。   \n",
       "2                                   * and * , please.             请给我*和*。   \n",
       "3                                            * day(s)                  *天   \n",
       "4                                             * dinar                 第纳尔   \n",
       "5                                            * dirham                 迪拉姆   \n",
       "6                                         * dollar(s)                  美元   \n",
       "7                                           * hour(s)                *个小时   \n",
       "8                                   * is not working.                  坏了   \n",
       "9                                         * minute(s)                 *分钟   \n",
       "10                                         * month(s)                 *个月   \n",
       "11                                             * p.m.                上午*点   \n",
       "12                                           * people                 *个人   \n",
       "14                                         * pound(s)                   磅   \n",
       "15                                          * week(s)                *个星期   \n",
       "16                                          * year(s)                  *年   \n",
       "17                                             * yuan                  *元   \n",
       "19                                           a bottle                  一瓶   \n",
       "20  A cleaning fee will be charged if you smoke in...                 NaN   \n",
       "21                            A cocktail if possible.       如果可能的话来点鸡尾酒吧。   \n",
       "22                            A cup of coffee for me.             我要一杯咖啡。   \n",
       "23                                    a glass of wine                 一杯酒   \n",
       "24                                             a pint                 一品脱   \n",
       "25  A small cup of strong black coffee without mil...    小杯浓的黑咖啡，不加牛奶和奶油。   \n",
       "26                             A table for *, please.                 *位。   \n",
       "27             A waiter will come to take your order.         服务员会过来为您点餐。   \n",
       "28                                            abdomen                  腹部   \n",
       "29                                               able                 能干的   \n",
       "30                                          Abu Dhabi                阿布扎比   \n",
       "31                                              Abuja                 阿布贾   \n",
       "32                                      academic year                  学年   \n",
       "33                              Accessible Guestroom.              残疾人客房。   \n",
       "34                                accompanying number                偕行人数   \n",
       "35                                              Accra                 阿克拉   \n",
       "36                                       achievements                  业绩   \n",
       "37                                             active                 主动的   \n",
       "38                                          adaptable               适应性强的   \n",
       "39                                         adapted to                 适应于   \n",
       "40                                            address                  地址   \n",
       "41                                   address while in             前往国家的住址   \n",
       "42                                           Adelaide                阿德莱德   \n",
       "43                                   adopted daughter                  养女   \n",
       "44                                        adopted son                  养子   \n",
       "45              Advance Reservations. Can I help you?       这儿预订房间，需要效劳吗?   \n",
       "46                                        Afghanistan                 阿富汗   \n",
       "47                                              after                  之后   \n",
       "48  After landing on the airport, you can turn on ...  飞机降落在机场后，你就能打开手机了。   \n",
       "49                                          afternoon                  下午   \n",
       "50                                                age                  年龄   \n",
       "51                                         aggressive               有进取心的   \n",
       "\n",
       "                      ar   pos  \n",
       "0               * صباحًا   prt  \n",
       "1                    NaN    vp  \n",
       "2   من فضلك أعطني * و *.    vp  \n",
       "3                ‏* أيام   prt  \n",
       "4                  دينار   prt  \n",
       "5                   درهم   prt  \n",
       "6                  دولار   prt  \n",
       "7               ‏* ساعات   prt  \n",
       "8              * لا يعمل    vp  \n",
       "9               ‏* دقائق   prt  \n",
       "10               *  أشهر   prt  \n",
       "11               * مساءً   prt  \n",
       "12               * أشخاص   prt  \n",
       "14                  جنيه   prt  \n",
       "15              ‏* أسبوع   prt  \n",
       "16              ‏* سنوات   prt  \n",
       "17                * يوان   prt  \n",
       "19                قارورة    np  \n",
       "20                   NaN    vp  \n",
       "21                   NaN  sent  \n",
       "22                   NaN  sent  \n",
       "23         كأس من النبيذ    np  \n",
       "24               نصف لتر    np  \n",
       "25                   NaN  sent  \n",
       "26                   NaN    vp  \n",
       "27                   NaN  sent  \n",
       "28                   بطن    np  \n",
       "29                   NaN    np  \n",
       "30               أبو ظبي    np  \n",
       "31                 أبوجا    np  \n",
       "32                   NaN    np  \n",
       "33                   NaN  sent  \n",
       "34                   NaN    np  \n",
       "35                  أكرا    np  \n",
       "36                   NaN    np  \n",
       "37                   NaN    np  \n",
       "38                   NaN    np  \n",
       "39                   NaN    np  \n",
       "40                   NaN    np  \n",
       "41                   NaN    np  \n",
       "42                أديليد    np  \n",
       "43                   NaN    np  \n",
       "44                   NaN    np  \n",
       "45                   NaN  sent  \n",
       "46             أفغانستان    np  \n",
       "47                   بعد   adv  \n",
       "48                   NaN  sent  \n",
       "49             بعد الظهر    np  \n",
       "50                   NaN    np  \n",
       "51                   NaN    np  "
      ]
     },
     "execution_count": 42,
     "metadata": {},
     "output_type": "execute_result"
    }
   ],
   "source": [
    "df.head(50)"
   ]
  },
  {
   "cell_type": "code",
   "execution_count": 44,
   "metadata": {
    "collapsed": false
   },
   "outputs": [
    {
     "name": "stdout",
     "output_type": "stream",
     "text": [
      "en     Do you speak *?\n",
      "cn              你说日语吗?\n",
      "ar                 NaN\n",
      "pos                 vp\n",
      "Name: 534, dtype: object\n"
     ]
    }
   ],
   "source": [
    "for i, row in df.iterrows():\n",
    "    if \"日语\" in str(row.cn):\n",
    "        print(row)"
   ]
  },
  {
   "cell_type": "code",
   "execution_count": 45,
   "metadata": {
    "collapsed": true
   },
   "outputs": [],
   "source": [
    "df.loc[534, 'cn'] = \"你说*语吗?\"\n",
    "df.loc[534, 'ar'] = \"هل تتكلم اللغة *؟\""
   ]
  },
  {
   "cell_type": "code",
   "execution_count": 46,
   "metadata": {
    "collapsed": false
   },
   "outputs": [
    {
     "data": {
      "text/plain": [
       "en       Do you speak *?\n",
       "cn                你说*语吗?\n",
       "ar     هل تتكلم اللغة *؟\n",
       "pos                   vp\n",
       "Name: 534, dtype: object"
      ]
     },
     "execution_count": 46,
     "metadata": {},
     "output_type": "execute_result"
    }
   ],
   "source": [
    "df.loc[534]"
   ]
  },
  {
   "cell_type": "code",
   "execution_count": 47,
   "metadata": {
    "collapsed": true
   },
   "outputs": [],
   "source": [
    "df.to_csv(\"master0417.csv\")"
   ]
  },
  {
   "cell_type": "code",
   "execution_count": 48,
   "metadata": {
    "collapsed": false
   },
   "outputs": [
    {
     "ename": "AttributeError",
     "evalue": "'DataFrame' object has no attribute 'name'",
     "output_type": "error",
     "traceback": [
      "\u001b[0;31m---------------------------------------------------------------------------\u001b[0m",
      "\u001b[0;31mAttributeError\u001b[0m                            Traceback (most recent call last)",
      "\u001b[0;32m<ipython-input-48-87017fdebad7>\u001b[0m in \u001b[0;36m<module>\u001b[0;34m()\u001b[0m\n\u001b[0;32m----> 1\u001b[0;31m \u001b[0mdf\u001b[0m\u001b[0;34m.\u001b[0m\u001b[0mname\u001b[0m\u001b[0;34m\u001b[0m\u001b[0m\n\u001b[0m",
      "\u001b[0;32m//anaconda/envs/py3/lib/python3.6/site-packages/pandas/core/generic.py\u001b[0m in \u001b[0;36m__getattr__\u001b[0;34m(self, name)\u001b[0m\n\u001b[1;32m   3612\u001b[0m             \u001b[0;32mif\u001b[0m \u001b[0mname\u001b[0m \u001b[0;32min\u001b[0m \u001b[0mself\u001b[0m\u001b[0;34m.\u001b[0m\u001b[0m_info_axis\u001b[0m\u001b[0;34m:\u001b[0m\u001b[0;34m\u001b[0m\u001b[0m\n\u001b[1;32m   3613\u001b[0m                 \u001b[0;32mreturn\u001b[0m \u001b[0mself\u001b[0m\u001b[0;34m[\u001b[0m\u001b[0mname\u001b[0m\u001b[0;34m]\u001b[0m\u001b[0;34m\u001b[0m\u001b[0m\n\u001b[0;32m-> 3614\u001b[0;31m             \u001b[0;32mreturn\u001b[0m \u001b[0mobject\u001b[0m\u001b[0;34m.\u001b[0m\u001b[0m__getattribute__\u001b[0m\u001b[0;34m(\u001b[0m\u001b[0mself\u001b[0m\u001b[0;34m,\u001b[0m \u001b[0mname\u001b[0m\u001b[0;34m)\u001b[0m\u001b[0;34m\u001b[0m\u001b[0m\n\u001b[0m\u001b[1;32m   3615\u001b[0m \u001b[0;34m\u001b[0m\u001b[0m\n\u001b[1;32m   3616\u001b[0m     \u001b[0;32mdef\u001b[0m \u001b[0m__setattr__\u001b[0m\u001b[0;34m(\u001b[0m\u001b[0mself\u001b[0m\u001b[0;34m,\u001b[0m \u001b[0mname\u001b[0m\u001b[0;34m,\u001b[0m \u001b[0mvalue\u001b[0m\u001b[0;34m)\u001b[0m\u001b[0;34m:\u001b[0m\u001b[0;34m\u001b[0m\u001b[0m\n",
      "\u001b[0;31mAttributeError\u001b[0m: 'DataFrame' object has no attribute 'name'"
     ]
    }
   ],
   "source": [
    "df.name"
   ]
  },
  {
   "cell_type": "code",
   "execution_count": 51,
   "metadata": {
    "collapsed": false
   },
   "outputs": [
    {
     "data": {
      "text/plain": [
       "'en'"
      ]
     },
     "execution_count": 51,
     "metadata": {},
     "output_type": "execute_result"
    }
   ],
   "source": [
    "df.columns[0]"
   ]
  },
  {
   "cell_type": "code",
   "execution_count": null,
   "metadata": {
    "collapsed": true
   },
   "outputs": [],
   "source": []
  }
 ],
 "metadata": {
  "kernelspec": {
   "display_name": "Python [py3]",
   "language": "python",
   "name": "Python [py3]"
  },
  "language_info": {
   "codemirror_mode": {
    "name": "ipython",
    "version": 3
   },
   "file_extension": ".py",
   "mimetype": "text/x-python",
   "name": "python",
   "nbconvert_exporter": "python",
   "pygments_lexer": "ipython3",
   "version": "3.6.5"
  }
 },
 "nbformat": 4,
 "nbformat_minor": 2
}
