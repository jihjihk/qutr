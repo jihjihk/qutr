{
 "cells": [
  {
   "cell_type": "markdown",
   "metadata": {},
   "source": [
    "# Sentence Generation\n",
    "## Simple querying and translation"
   ]
  },
  {
   "cell_type": "code",
   "execution_count": 60,
   "metadata": {
    "collapsed": true
   },
   "outputs": [],
   "source": [
    "enOr = [\n",
    "\"Hello\",\n",
    "\"Hi\",\n",
    "\"Good Morning\",\n",
    "\"Good Evening\",\n",
    "\"What would you like?\",\n",
    "\"What is your name?\",\n",
    "\"My name is *\",\n",
    "\"Nice to meet you\",\n",
    "\"good\",\n",
    "\"very *\",\n",
    "\"Today\",\n",
    "\"We have *\",\n",
    "\"Orange\",\n",
    "\"Apple\",\n",
    "\"Mango\",\n",
    "\"How much are *?\",\n",
    "\"What is the price?\",\n",
    "\"* dollars\",\n",
    "\"per *\",\n",
    "\"I would like *\",\n",
    "\"* kilograms\",\n",
    "\"please\",\n",
    "\"okay\"\n",
    "]"
   ]
  },
  {
   "cell_type": "code",
   "execution_count": 62,
   "metadata": {
    "collapsed": true
   },
   "outputs": [],
   "source": [
    "en = [word.lower() for word in enOr]"
   ]
  },
  {
   "cell_type": "code",
   "execution_count": 63,
   "metadata": {
    "collapsed": false
   },
   "outputs": [
    {
     "ename": "SyntaxError",
     "evalue": "EOL while scanning string literal (<ipython-input-63-b6b1a82100a3>, line 3)",
     "output_type": "error",
     "traceback": [
      "\u001b[0;36m  File \u001b[0;32m\"<ipython-input-63-b6b1a82100a3>\"\u001b[0;36m, line \u001b[0;32m3\u001b[0m\n\u001b[0;31m    \"\u001b[0m\n\u001b[0m     ^\u001b[0m\n\u001b[0;31mSyntaxError\u001b[0m\u001b[0;31m:\u001b[0m EOL while scanning string literal\n"
     ]
    }
   ],
   "source": [
    "ar = [\n",
    "\"السلام عليكم\",\n",
    "    \"\n",
    "أهلا\"\n",
    "\"صباح الخير\n",
    "مساء الخير\n",
    "ماذا تحب؟\n",
    "ما اسمك؟\n",
    "اسمي *\n",
    "تشرفنا\n",
    "جيد\n",
    "*جدا\n",
    "اليوم\n",
    "لدينا *\n",
    "برتقال\n",
    "تفاح\n",
    "مانجو\n",
    "كم هي *؟\n",
    "ماهو السعر؟\n",
    "* دولارات\n",
    "لكل *\n",
    "أود *\n",
    "*كلغ\n",
    "من فضلك\n",
    "حسنا\n",
    "]"
   ]
  },
  {
   "cell_type": "code",
   "execution_count": 64,
   "metadata": {
    "collapsed": false
   },
   "outputs": [
    {
     "name": "stdout",
     "output_type": "stream",
     "text": [
      "السلام عليكم, أهلا, صباح الخير, مساء الخير, ماذا تحب؟, ما اسمك؟, اسمي *, تشرفنا, جيد, *جدا, اليوم, لدينا *, برتقال, تفاح, مانجو, كم هي *؟, ماهو السعر؟, * دولارات, لكل *, أود *, *كلغ, من فضلك, حسنا\n"
     ]
    }
   ],
   "source": [
    "string = input()\n",
    "l = string.split(\",\")\n",
    "ar = []\n",
    "for line in l:\n",
    "    ar.append(line.strip())"
   ]
  },
  {
   "cell_type": "code",
   "execution_count": 65,
   "metadata": {
    "collapsed": false
   },
   "outputs": [
    {
     "data": {
      "text/plain": [
       "['السلام عليكم',\n",
       " 'أهلا',\n",
       " 'صباح الخير',\n",
       " 'مساء الخير',\n",
       " 'ماذا تحب؟',\n",
       " 'ما اسمك؟',\n",
       " 'اسمي *',\n",
       " 'تشرفنا',\n",
       " 'جيد',\n",
       " '*جدا',\n",
       " 'اليوم',\n",
       " 'لدينا *',\n",
       " 'برتقال',\n",
       " 'تفاح',\n",
       " 'مانجو',\n",
       " 'كم هي *؟',\n",
       " 'ماهو السعر؟',\n",
       " '* دولارات',\n",
       " 'لكل *',\n",
       " 'أود *',\n",
       " '*كلغ',\n",
       " 'من فضلك',\n",
       " 'حسنا']"
      ]
     },
     "execution_count": 65,
     "metadata": {},
     "output_type": "execute_result"
    }
   ],
   "source": [
    "ar"
   ]
  },
  {
   "cell_type": "code",
   "execution_count": 66,
   "metadata": {
    "collapsed": true
   },
   "outputs": [],
   "source": [
    "dic = dict(zip(en, ar))"
   ]
  },
  {
   "cell_type": "code",
   "execution_count": 67,
   "metadata": {
    "collapsed": false
   },
   "outputs": [
    {
     "data": {
      "text/plain": [
       "{'* dollars': '* دولارات',\n",
       " '* kilograms': '*كلغ',\n",
       " 'apple': 'تفاح',\n",
       " 'good': 'جيد',\n",
       " 'good evening': 'مساء الخير',\n",
       " 'good morning': 'صباح الخير',\n",
       " 'hello': 'السلام عليكم',\n",
       " 'hi': 'أهلا',\n",
       " 'how much are *?': 'كم هي *؟',\n",
       " 'i would like *': 'أود *',\n",
       " 'mango': 'مانجو',\n",
       " 'my name is *': 'اسمي *',\n",
       " 'nice to meet you': 'تشرفنا',\n",
       " 'okay': 'حسنا',\n",
       " 'orange': 'برتقال',\n",
       " 'per *': 'لكل *',\n",
       " 'please': 'من فضلك',\n",
       " 'today': 'اليوم',\n",
       " 'very *': '*جدا',\n",
       " 'we have *': 'لدينا *',\n",
       " 'what is the price?': 'ماهو السعر؟',\n",
       " 'what is your name?': 'ما اسمك؟',\n",
       " 'what would you like?': 'ماذا تحب؟'}"
      ]
     },
     "execution_count": 67,
     "metadata": {},
     "output_type": "execute_result"
    }
   ],
   "source": [
    "dic"
   ]
  },
  {
   "cell_type": "code",
   "execution_count": 68,
   "metadata": {
    "collapsed": true
   },
   "outputs": [],
   "source": [
    "longstring = \"\"\"\n",
    "grt1\n",
    "grt2\n",
    "grt3\n",
    "grt4\n",
    "que1\n",
    "que2\n",
    "ans1\n",
    "grt5\n",
    "ans2\n",
    "mod1\n",
    "adv2\n",
    "ans3\n",
    "nou1\n",
    "nou2\n",
    "nou3\n",
    "que1\n",
    "que2\n",
    "ans4\n",
    "mod2\n",
    "ans5\n",
    "mod3\n",
    "mod4\n",
    "ans6\n",
    "\"\"\""
   ]
  },
  {
   "cell_type": "code",
   "execution_count": 69,
   "metadata": {
    "collapsed": true
   },
   "outputs": [],
   "source": [
    "arr1 = longstring.split(\"\\n\")\n",
    "idArr = []\n",
    "for i in arr1:\n",
    "    idArr.append(i)"
   ]
  },
  {
   "cell_type": "code",
   "execution_count": 70,
   "metadata": {
    "collapsed": true
   },
   "outputs": [],
   "source": [
    "idArr.remove(\"\")"
   ]
  },
  {
   "cell_type": "code",
   "execution_count": 71,
   "metadata": {
    "collapsed": false
   },
   "outputs": [
    {
     "data": {
      "text/plain": [
       "''"
      ]
     },
     "execution_count": 71,
     "metadata": {},
     "output_type": "execute_result"
    }
   ],
   "source": [
    "idArr.pop()"
   ]
  },
  {
   "cell_type": "code",
   "execution_count": 72,
   "metadata": {
    "collapsed": false
   },
   "outputs": [
    {
     "data": {
      "text/plain": [
       "23"
      ]
     },
     "execution_count": 72,
     "metadata": {},
     "output_type": "execute_result"
    }
   ],
   "source": [
    "len(idArr)"
   ]
  },
  {
   "cell_type": "code",
   "execution_count": 73,
   "metadata": {
    "collapsed": false
   },
   "outputs": [
    {
     "data": {
      "text/plain": [
       "23"
      ]
     },
     "execution_count": 73,
     "metadata": {},
     "output_type": "execute_result"
    }
   ],
   "source": [
    "len(en)"
   ]
  },
  {
   "cell_type": "code",
   "execution_count": 74,
   "metadata": {
    "collapsed": false
   },
   "outputs": [
    {
     "data": {
      "text/plain": [
       "23"
      ]
     },
     "execution_count": 74,
     "metadata": {},
     "output_type": "execute_result"
    }
   ],
   "source": [
    "len(ar)"
   ]
  },
  {
   "cell_type": "code",
   "execution_count": 75,
   "metadata": {
    "collapsed": true
   },
   "outputs": [],
   "source": [
    "dic = {}\n",
    "for i in range(23):\n",
    "    dic[idArr[i]] = {'en': en[i], 'ar': ar[i]}"
   ]
  },
  {
   "cell_type": "code",
   "execution_count": 76,
   "metadata": {
    "collapsed": true
   },
   "outputs": [],
   "source": [
    "en_d = dict(zip(en, idArr))"
   ]
  },
  {
   "cell_type": "code",
   "execution_count": null,
   "metadata": {
    "collapsed": true
   },
   "outputs": [],
   "source": []
  },
  {
   "cell_type": "code",
   "execution_count": 77,
   "metadata": {
    "collapsed": true
   },
   "outputs": [],
   "source": [
    "def getEnId(query):\n",
    "    if query in en_d:\n",
    "        return en_d[query]\n",
    "    else:\n",
    "        return None"
   ]
  },
  {
   "cell_type": "code",
   "execution_count": 83,
   "metadata": {
    "collapsed": true
   },
   "outputs": [],
   "source": [
    "def getArStr(ID):\n",
    "    if ID:\n",
    "        return dic[ID]['ar']\n",
    "    else:\n",
    "        return None"
   ]
  },
  {
   "cell_type": "code",
   "execution_count": 79,
   "metadata": {
    "collapsed": false
   },
   "outputs": [
    {
     "data": {
      "text/plain": [
       "'السلام عليكم'"
      ]
     },
     "execution_count": 79,
     "metadata": {},
     "output_type": "execute_result"
    }
   ],
   "source": [
    "getArStr(\"grt1\")"
   ]
  },
  {
   "cell_type": "code",
   "execution_count": 80,
   "metadata": {
    "collapsed": true
   },
   "outputs": [],
   "source": [
    "getEnId(\"Hello\")"
   ]
  },
  {
   "cell_type": "code",
   "execution_count": 81,
   "metadata": {
    "collapsed": true
   },
   "outputs": [],
   "source": [
    "getArStr(getEnId(\"Hello\"))"
   ]
  },
  {
   "cell_type": "code",
   "execution_count": 84,
   "metadata": {
    "collapsed": true
   },
   "outputs": [],
   "source": [
    "def simpleGreeting():\n",
    "    end = False\n",
    "    while(not end):\n",
    "        print(\"Type a simple phrase in English or 'end' to terminate:\")\n",
    "        query = input().lower().strip()\n",
    "        print(\"The Arabic Translation:\")\n",
    "        result = getArStr(getEnId(query))\n",
    "        if result:\n",
    "            print(result)\n",
    "        else:\n",
    "            print(\"Sorry, the word was not found. Try again\")\n",
    "\n",
    "        if input() == \"end\":\n",
    "            end = True\n",
    "        "
   ]
  },
  {
   "cell_type": "code",
   "execution_count": 85,
   "metadata": {
    "collapsed": false
   },
   "outputs": [
    {
     "name": "stdout",
     "output_type": "stream",
     "text": [
      "Type a simple phrase in English or 'end' to terminate:\n",
      "hello\n",
      "The Arabic Translation:\n",
      "السلام عليكم\n",
      "hi\n",
      "Type a simple phrase in English or 'end' to terminate:\n",
      "thank you\n",
      "The Arabic Translation:\n",
      "Sorry, the word was not found. Try again\n",
      "hi\n",
      "Type a simple phrase in English or 'end' to terminate:\n",
      "good\n",
      "The Arabic Translation:\n",
      "جيد\n",
      "apple\n",
      "Type a simple phrase in English or 'end' to terminate:\n",
      "apples\n",
      "The Arabic Translation:\n",
      "Sorry, the word was not found. Try again\n",
      "end\n"
     ]
    }
   ],
   "source": [
    "simpleGreeting()"
   ]
  },
  {
   "cell_type": "code",
   "execution_count": 86,
   "metadata": {
    "collapsed": false
   },
   "outputs": [
    {
     "data": {
      "text/plain": [
       "{'adv2': {'ar': 'اليوم', 'en': 'today'},\n",
       " 'ans1': {'ar': 'اسمي *', 'en': 'my name is *'},\n",
       " 'ans2': {'ar': 'جيد', 'en': 'good'},\n",
       " 'ans3': {'ar': 'لدينا *', 'en': 'we have *'},\n",
       " 'ans4': {'ar': '* دولارات', 'en': '* dollars'},\n",
       " 'ans5': {'ar': 'أود *', 'en': 'i would like *'},\n",
       " 'ans6': {'ar': 'حسنا', 'en': 'okay'},\n",
       " 'grt1': {'ar': 'السلام عليكم', 'en': 'hello'},\n",
       " 'grt2': {'ar': 'أهلا', 'en': 'hi'},\n",
       " 'grt3': {'ar': 'صباح الخير', 'en': 'good morning'},\n",
       " 'grt4': {'ar': 'مساء الخير', 'en': 'good evening'},\n",
       " 'grt5': {'ar': 'تشرفنا', 'en': 'nice to meet you'},\n",
       " 'mod1': {'ar': '*جدا', 'en': 'very *'},\n",
       " 'mod2': {'ar': 'لكل *', 'en': 'per *'},\n",
       " 'mod3': {'ar': '*كلغ', 'en': '* kilograms'},\n",
       " 'mod4': {'ar': 'من فضلك', 'en': 'please'},\n",
       " 'nou1': {'ar': 'برتقال', 'en': 'orange'},\n",
       " 'nou2': {'ar': 'تفاح', 'en': 'apple'},\n",
       " 'nou3': {'ar': 'مانجو', 'en': 'mango'},\n",
       " 'que1': {'ar': 'كم هي *؟', 'en': 'how much are *?'},\n",
       " 'que2': {'ar': 'ماهو السعر؟', 'en': 'what is the price?'}}"
      ]
     },
     "execution_count": 86,
     "metadata": {},
     "output_type": "execute_result"
    }
   ],
   "source": [
    "dic"
   ]
  }
 ],
 "metadata": {
  "anaconda-cloud": {},
  "kernelspec": {
   "display_name": "Python [py3]",
   "language": "python",
   "name": "Python [py3]"
  },
  "language_info": {
   "codemirror_mode": {
    "name": "ipython",
    "version": 3
   },
   "file_extension": ".py",
   "mimetype": "text/x-python",
   "name": "python",
   "nbconvert_exporter": "python",
   "pygments_lexer": "ipython3",
   "version": "3.5.3"
  }
 },
 "nbformat": 4,
 "nbformat_minor": 2
}
