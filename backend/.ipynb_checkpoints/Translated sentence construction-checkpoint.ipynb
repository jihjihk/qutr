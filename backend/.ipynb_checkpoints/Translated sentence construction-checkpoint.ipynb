{
 "cells": [
  {
   "cell_type": "markdown",
   "metadata": {
    "collapsed": true
   },
   "source": [
    "---\n",
    "\n",
    "# Basic sentence generation using a list of IDs as input\n",
    "## Concept ID Database\n",
    "\n",
    "### POS for qutr\n",
    "\n",
    "* sent: complete sentences and greetings\n",
    "* vp: verb phrases to refer to sentence templates with empty noun phrases\n",
    "* np: noun and noun phrases\n",
    "* adj: adjective\n",
    "* adv: adverb\n",
    "* conj: conjunctions\n",
    "* prt: particles or other function words\n",
    "* num: cardinal numbers\n",
    "* X: other\n",
    "\n",
    "\"A Universal Part-of-Speech Tagset\" by Slav Petrov, Dipanjan Das and Ryan McDonald"
   ]
  },
  {
   "cell_type": "code",
   "execution_count": 1,
   "metadata": {
    "collapsed": true
   },
   "outputs": [],
   "source": [
    "import pandas as pd"
   ]
  },
  {
   "cell_type": "markdown",
   "metadata": {},
   "source": [
    "## Notes\n",
    "* need queries to be separated as single sentences; hard to parse otherwise"
   ]
  },
  {
   "cell_type": "code",
   "execution_count": 23,
   "metadata": {
    "collapsed": false
   },
   "outputs": [],
   "source": [
    "## general translate method for all languages, requires target lang specification as parameter\n",
    "def translate(query, target):\n",
    "    #phrase id: pid\n",
    "    final = \"\"\n",
    "    np = \"\"\n",
    "    temp = \"\"\n",
    "    raw = \"\"\n",
    "    \n",
    "    for pid in query:\n",
    "        if type(pid) is int:\n",
    "            np += str(pid)\n",
    "            raw += str(pid) + \" | \"\n",
    "        else:\n",
    "            prow = target.loc[pid]\n",
    "            raw += prow.phrase + \" | \"\n",
    "            #print(prow.complete)\n",
    "            if prow.pos == \"phrs\":\n",
    "                final += prow.phrase + \"\\t\"\n",
    "            else:\n",
    "                ## there can only be one templating sentence per query\n",
    "                if \"*\" in prow.phrase and prow.pos == \"vp\":\n",
    "                        temp = prow.phrase\n",
    "                else:\n",
    "                    np += prow.phrase.replace(\"*\", \"\").lower()\n",
    "                    \n",
    "    if temp != \"\":\n",
    "        temp = temp.replace(\"*\", np)\n",
    "    final += temp\n",
    "    \n",
    "    print(\"Query IDs were: \" + raw + \"\\n\")\n",
    "    print(final)\n",
    "    print(\"---\\n\")"
   ]
  },
  {
   "cell_type": "markdown",
   "metadata": {},
   "source": [
    "### Example sentence compilation"
   ]
  },
  {
   "cell_type": "code",
   "execution_count": 24,
   "metadata": {
    "collapsed": false
   },
   "outputs": [
    {
     "name": "stdout",
     "output_type": "stream",
     "text": [
      "Query IDs were: I would like * | 5 | * kilograms | \n",
      "\n",
      "I would like 5 kilograms\n",
      "---\n",
      "\n",
      "Query IDs were: I do not understand | \n",
      "\n",
      "I do not understand\t\n",
      "---\n",
      "\n",
      "Query IDs were: Good Morning | Do you have *? | Apple | \n",
      "\n",
      "Good Morning\tDo you have apple?\n",
      "---\n",
      "\n",
      "Query IDs were: Mango | How much are *? | \n",
      "\n",
      "How much are mango?\n",
      "---\n",
      "\n"
     ]
    }
   ],
   "source": [
    "translate([\"p21\", 5, \"p22\"], en)\n",
    "translate([\"p36\"], en)\n",
    "translate([\"p3\", \"p35\", \"p15\"], en)\n",
    "translate([\"p16\", \"p17\"], en)"
   ]
  },
  {
   "cell_type": "code",
   "execution_count": 25,
   "metadata": {
    "collapsed": false
   },
   "outputs": [
    {
     "name": "stdout",
     "output_type": "stream",
     "text": [
      "Query IDs were: 我要* | 5 | *公斤 | \n",
      "\n",
      "我要5公斤\n",
      "---\n",
      "\n",
      "Query IDs were: 我听不懂 | \n",
      "\n",
      "我听不懂\t\n",
      "---\n",
      "\n",
      "Query IDs were: 早上好 | 有没有*？ | 苹果 | \n",
      "\n",
      "早上好\t有没有苹果？\n",
      "---\n",
      "\n",
      "Query IDs were: 芒果 | *多少钱？ | \n",
      "\n",
      "芒果多少钱？\n",
      "---\n",
      "\n"
     ]
    }
   ],
   "source": [
    "translate([\"p21\", 5, \"p22\"], cn)\n",
    "translate([\"p36\"], cn)\n",
    "translate([\"p3\", \"p35\", \"p15\"], cn)\n",
    "translate([\"p16\", \"p17\"], cn)"
   ]
  },
  {
   "cell_type": "code",
   "execution_count": 26,
   "metadata": {
    "collapsed": false
   },
   "outputs": [
    {
     "name": "stdout",
     "output_type": "stream",
     "text": [
      "Query IDs were: أود * | 5 | *كلغ | \n",
      "\n",
      "أود 5كلغ\n",
      "---\n",
      "\n",
      "Query IDs were: لا افهم | \n",
      "\n",
      "لا افهم\t\n",
      "---\n",
      "\n",
      "Query IDs were: صباح الخير | هل تمتلك *؟ | تفاح | \n",
      "\n",
      "صباح الخير\tهل تمتلك تفاح؟\n",
      "---\n",
      "\n",
      "Query IDs were: مانجو | كم هي *؟ | \n",
      "\n",
      "كم هي مانجو؟\n",
      "---\n",
      "\n"
     ]
    }
   ],
   "source": [
    "translate([\"p21\", 5, \"p22\"], ar)\n",
    "translate([\"p36\"], ar)\n",
    "translate([\"p3\", \"p35\", \"p15\"], ar)\n",
    "translate([\"p16\", \"p17\"], ar)"
   ]
  },
  {
   "cell_type": "markdown",
   "metadata": {},
   "source": [
    "---\n",
    "\n",
    "## Jan 28 Notes\n",
    "\n",
    "### implementing a multilingual phrase compilation model\n",
    "\n",
    "How do we build a single model that builds sentences accurately for all languages?\n",
    "\n",
    "* importance of a clean, well organized database\n",
    "* scalability of the database?\n",
    "* how to specify gender and age? through addition of more concept phrases or somehow inflecting already existing phrases?\n",
    "\n",
    "---"
   ]
  }
 ],
 "metadata": {
  "anaconda-cloud": {},
  "kernelspec": {
   "display_name": "Python [py3]",
   "language": "python",
   "name": "Python [py3]"
  },
  "language_info": {
   "codemirror_mode": {
    "name": "ipython",
    "version": 3
   },
   "file_extension": ".py",
   "mimetype": "text/x-python",
   "name": "python",
   "nbconvert_exporter": "python",
   "pygments_lexer": "ipython3",
   "version": "3.5.3"
  }
 },
 "nbformat": 4,
 "nbformat_minor": 2
}
